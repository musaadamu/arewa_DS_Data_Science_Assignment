{
 "cells": [
  {
   "cell_type": "code",
   "execution_count": 1,
   "metadata": {},
   "outputs": [],
   "source": [
    "\n",
    "#### 1. Import the numpy package under the name `np` (★☆☆)\n",
    "import numpy as np"
   ]
  },
  {
   "cell_type": "code",
   "execution_count": 2,
   "metadata": {},
   "outputs": [
    {
     "name": "stdout",
     "output_type": "stream",
     "text": [
      "1.26.3\n"
     ]
    }
   ],
   "source": [
    "#### 2. Print the numpy version and the configuration (★☆☆)\n",
    "print(np.__version__)"
   ]
  },
  {
   "cell_type": "code",
   "execution_count": 3,
   "metadata": {},
   "outputs": [
    {
     "name": "stdout",
     "output_type": "stream",
     "text": [
      "[0. 0. 0. 0. 0. 0. 0. 0. 0. 0.]\n"
     ]
    }
   ],
   "source": [
    "#### 3. Create a null vector of size 10 (★☆☆)\n",
    "null_vector = np.zeros(10)\n",
    "print(null_vector)"
   ]
  },
  {
   "cell_type": "code",
   "execution_count": 4,
   "metadata": {},
   "outputs": [
    {
     "name": "stdout",
     "output_type": "stream",
     "text": [
      "Memory size of the array: 96 bytes\n"
     ]
    }
   ],
   "source": [
    "#### 4. How to find the memory size of any array (★☆☆)\n",
    "arr = np.zeros((3, 4))\n",
    "memory_size = arr.nbytes\n",
    "print(\"Memory size of the array:\", memory_size, \"bytes\")\n"
   ]
  },
  {
   "cell_type": "code",
   "execution_count": 5,
   "metadata": {},
   "outputs": [
    {
     "name": "stdout",
     "output_type": "stream",
     "text": [
      "Help on ufunc in numpy:\n",
      "\n",
      "numpy.add = <ufunc 'add'>\n",
      "    add(x1, x2, /, out=None, *, where=True, casting='same_kind', order='K', dtype=None, subok=True[, signature, extobj])\n",
      "    \n",
      "    Add arguments element-wise.\n",
      "    \n",
      "    Parameters\n",
      "    ----------\n",
      "    x1, x2 : array_like\n",
      "        The arrays to be added.\n",
      "        If ``x1.shape != x2.shape``, they must be broadcastable to a common\n",
      "        shape (which becomes the shape of the output).\n",
      "    out : ndarray, None, or tuple of ndarray and None, optional\n",
      "        A location into which the result is stored. If provided, it must have\n",
      "        a shape that the inputs broadcast to. If not provided or None,\n",
      "        a freshly-allocated array is returned. A tuple (possible only as a\n",
      "        keyword argument) must have length equal to the number of outputs.\n",
      "    where : array_like, optional\n",
      "        This condition is broadcast over the input. At locations where the\n",
      "        condition is True, the `out` array will be set to the ufunc result.\n",
      "        Elsewhere, the `out` array will retain its original value.\n",
      "        Note that if an uninitialized `out` array is created via the default\n",
      "        ``out=None``, locations within it where the condition is False will\n",
      "        remain uninitialized.\n",
      "    **kwargs\n",
      "        For other keyword-only arguments, see the\n",
      "        :ref:`ufunc docs <ufuncs.kwargs>`.\n",
      "    \n",
      "    Returns\n",
      "    -------\n",
      "    add : ndarray or scalar\n",
      "        The sum of `x1` and `x2`, element-wise.\n",
      "        This is a scalar if both `x1` and `x2` are scalars.\n",
      "    \n",
      "    Notes\n",
      "    -----\n",
      "    Equivalent to `x1` + `x2` in terms of array broadcasting.\n",
      "    \n",
      "    Examples\n",
      "    --------\n",
      "    >>> np.add(1.0, 4.0)\n",
      "    5.0\n",
      "    >>> x1 = np.arange(9.0).reshape((3, 3))\n",
      "    >>> x2 = np.arange(3.0)\n",
      "    >>> np.add(x1, x2)\n",
      "    array([[  0.,   2.,   4.],\n",
      "           [  3.,   5.,   7.],\n",
      "           [  6.,   8.,  10.]])\n",
      "    \n",
      "    The ``+`` operator can be used as a shorthand for ``np.add`` on ndarrays.\n",
      "    \n",
      "    >>> x1 = np.arange(9.0).reshape((3, 3))\n",
      "    >>> x2 = np.arange(3.0)\n",
      "    >>> x1 + x2\n",
      "    array([[ 0.,  2.,  4.],\n",
      "           [ 3.,  5.,  7.],\n",
      "           [ 6.,  8., 10.]])\n",
      "\n"
     ]
    }
   ],
   "source": [
    "#### 5. How to get the documentation of the numpy add function from the command line? (★☆☆)\n",
    "!pydoc numpy.add"
   ]
  },
  {
   "cell_type": "code",
   "execution_count": 6,
   "metadata": {},
   "outputs": [
    {
     "name": "stdout",
     "output_type": "stream",
     "text": [
      "[0. 0. 0. 0. 1. 0. 0. 0. 0. 0.]\n"
     ]
    }
   ],
   "source": [
    "#### 6. Create a null vector of size 10 but the fifth value which is 1 (★☆☆)\n",
    "null_vector = np.zeros(10)\n",
    "null_vector[4] = 1\n",
    "print(null_vector)\n"
   ]
  },
  {
   "cell_type": "code",
   "execution_count": 7,
   "metadata": {},
   "outputs": [
    {
     "name": "stdout",
     "output_type": "stream",
     "text": [
      "[10 11 12 13 14 15 16 17 18 19 20 21 22 23 24 25 26 27 28 29 30 31 32 33\n",
      " 34 35 36 37 38 39 40 41 42 43 44 45 46 47 48 49]\n"
     ]
    }
   ],
   "source": [
    "#### 7. Create a vector with values ranging from 10 to 49 (★☆☆)\n",
    "vector = np.arange(10, 50)\n",
    "print(vector)\n"
   ]
  },
  {
   "cell_type": "code",
   "execution_count": 9,
   "metadata": {},
   "outputs": [
    {
     "name": "stdout",
     "output_type": "stream",
     "text": [
      "[49 48 47 46 45 44 43 42 41 40 39 38 37 36 35 34 33 32 31 30 29 28 27 26\n",
      " 25 24 23 22 21 20 19 18 17 16 15 14 13 12 11 10]\n"
     ]
    }
   ],
   "source": [
    "#### 8. Reverse a vector (first element becomes last) (★☆☆)\n",
    "vector = np.arange(10, 50)\n",
    "reversed_vector = vector[::-1]\n",
    "print(reversed_vector)"
   ]
  },
  {
   "cell_type": "code",
   "execution_count": 10,
   "metadata": {},
   "outputs": [
    {
     "name": "stdout",
     "output_type": "stream",
     "text": [
      "[[0 1 2]\n",
      " [3 4 5]\n",
      " [6 7 8]]\n"
     ]
    }
   ],
   "source": [
    "#### 9. Create a 3x3 matrix with values ranging from 0 to 8 (★☆☆)\n",
    "matrix = np.arange(9).reshape(3, 3)\n",
    "print(matrix)"
   ]
  },
  {
   "cell_type": "code",
   "execution_count": 11,
   "metadata": {},
   "outputs": [
    {
     "name": "stdout",
     "output_type": "stream",
     "text": [
      "(array([0, 1, 4]),)\n"
     ]
    }
   ],
   "source": [
    "#### 10. Find indices of non-zero elements from [1,2,0,0,4,0] (★☆☆)\n",
    "arr = np.array([1, 2, 0, 0, 4, 0])\n",
    "indices = np.nonzero(arr)\n",
    "print(indices)\n"
   ]
  },
  {
   "cell_type": "code",
   "execution_count": 12,
   "metadata": {},
   "outputs": [
    {
     "name": "stdout",
     "output_type": "stream",
     "text": [
      "[[1. 0. 0.]\n",
      " [0. 1. 0.]\n",
      " [0. 0. 1.]]\n"
     ]
    }
   ],
   "source": [
    "#### 11. Create a 3x3 identity matrix (★☆☆)\n",
    "identity_matrix = np.eye(3)\n",
    "print(identity_matrix)\n"
   ]
  },
  {
   "cell_type": "code",
   "execution_count": 13,
   "metadata": {},
   "outputs": [
    {
     "name": "stdout",
     "output_type": "stream",
     "text": [
      "[[[0.34100746 0.65879663 0.70599628]\n",
      "  [0.37620897 0.86818749 0.87323466]\n",
      "  [0.79142628 0.03447757 0.00635208]]\n",
      "\n",
      " [[0.59321692 0.52021911 0.50691546]\n",
      "  [0.30864591 0.51713249 0.16812633]\n",
      "  [0.03848898 0.17899934 0.20717099]]\n",
      "\n",
      " [[0.15483223 0.45581697 0.48032738]\n",
      "  [0.30356457 0.50875553 0.93841093]\n",
      "  [0.50480291 0.00984955 0.98788579]]]\n"
     ]
    }
   ],
   "source": [
    "#### 12. Create a 3x3x3 array with random values (★☆☆)\n",
    "array = np.random.rand(3, 3, 3)\n",
    "print(array)"
   ]
  },
  {
   "cell_type": "code",
   "execution_count": 14,
   "metadata": {},
   "outputs": [
    {
     "name": "stdout",
     "output_type": "stream",
     "text": [
      "Array:\n",
      "[[0.86523719 0.79592183 0.37460001 0.95056958 0.01341302 0.43714794\n",
      "  0.11889904 0.1790426  0.54417137 0.88424074]\n",
      " [0.6542741  0.85352253 0.14933508 0.81040132 0.44602658 0.57695023\n",
      "  0.8513847  0.23309108 0.72680002 0.32493702]\n",
      " [0.80545989 0.35513627 0.3440907  0.95839671 0.57859783 0.98117317\n",
      "  0.19006178 0.1765507  0.90871731 0.46179938]\n",
      " [0.10516016 0.9681954  0.90090937 0.36191764 0.10617041 0.87603055\n",
      "  0.1842952  0.98350442 0.59645109 0.75616274]\n",
      " [0.0725857  0.48902971 0.8387149  0.5905156  0.66771028 0.93370194\n",
      "  0.31761899 0.47184365 0.95620413 0.26535803]\n",
      " [0.6358042  0.18483313 0.22299415 0.09532114 0.2897693  0.50787661\n",
      "  0.12236361 0.00223746 0.47171674 0.36710931]\n",
      " [0.75979924 0.55003156 0.85349603 0.91243485 0.34241109 0.96883444\n",
      "  0.39039342 0.40556782 0.93509767 0.43996251]\n",
      " [0.07333629 0.35333163 0.48357249 0.77236026 0.3831969  0.29176151\n",
      "  0.74014822 0.88532066 0.03768095 0.0557009 ]\n",
      " [0.40741638 0.90933717 0.72250301 0.47065781 0.24907649 0.42465809\n",
      "  0.59264539 0.78489219 0.02704926 0.86546372]\n",
      " [0.80297228 0.0591364  0.95964015 0.93170529 0.34523155 0.0259957\n",
      "  0.68619106 0.06165341 0.16728825 0.4214077 ]]\n",
      "Minimum value: 0.002237464795761368\n",
      "Maximum value: 0.9835044159785129\n"
     ]
    }
   ],
   "source": [
    "#### 13. Create a 10x10 array with random values and find the minimum and maximum values (★☆☆)\n",
    "array = np.random.rand(10, 10)\n",
    "print(\"Array:\")\n",
    "print(array)\n",
    "\n",
    "minimum_value = np.min(array)\n",
    "maximum_value = np.max(array)\n",
    "\n",
    "print(\"Minimum value:\", minimum_value)\n",
    "print(\"Maximum value:\", maximum_value)"
   ]
  },
  {
   "cell_type": "code",
   "execution_count": 15,
   "metadata": {},
   "outputs": [
    {
     "name": "stdout",
     "output_type": "stream",
     "text": [
      "Vector:\n",
      "[0.49818324 0.1969117  0.46240718 0.93003293 0.73908796 0.68768924\n",
      " 0.4386444  0.33848592 0.24820441 0.6522659  0.12937898 0.32071164\n",
      " 0.46561913 0.72921067 0.21548519 0.86663282 0.82274788 0.36602372\n",
      " 0.67951172 0.8684691  0.97424591 0.73631941 0.107913   0.26383568\n",
      " 0.30257552 0.61467619 0.9100928  0.43574491 0.13905168 0.38317009]\n",
      "Mean value: 0.517444297421716\n"
     ]
    }
   ],
   "source": [
    "#### 14. Create a random vector of size 30 and find the mean value (★☆☆)\n",
    "import numpy as np\n",
    "\n",
    "vector = np.random.rand(30)\n",
    "print(\"Vector:\")\n",
    "print(vector)\n",
    "\n",
    "mean_value = np.mean(vector)\n",
    "print(\"Mean value:\", mean_value)\n"
   ]
  },
  {
   "cell_type": "code",
   "execution_count": 16,
   "metadata": {},
   "outputs": [
    {
     "name": "stdout",
     "output_type": "stream",
     "text": [
      "[[1. 1. 1. 1. 1.]\n",
      " [1. 0. 0. 0. 1.]\n",
      " [1. 0. 0. 0. 1.]\n",
      " [1. 0. 0. 0. 1.]\n",
      " [1. 1. 1. 1. 1.]]\n"
     ]
    }
   ],
   "source": [
    "#### 15. Create a 2d array with 1 on the border and 0 inside (★☆☆)\n",
    "rows = 5\n",
    "cols = 5\n",
    "\n",
    "array = np.zeros((rows, cols))\n",
    "array[0, :] = 1  # Top row\n",
    "array[-1, :] = 1  # Bottom row\n",
    "array[:, 0] = 1  # Left column\n",
    "array[:, -1] = 1  # Right column\n",
    "\n",
    "print(array)\n"
   ]
  },
  {
   "cell_type": "code",
   "execution_count": 17,
   "metadata": {},
   "outputs": [
    {
     "name": "stdout",
     "output_type": "stream",
     "text": [
      "Existing Array:\n",
      "[[1 2 3]\n",
      " [4 5 6]\n",
      " [7 8 9]]\n",
      "\n",
      "Padded Array:\n",
      "[[0 0 0 0 0]\n",
      " [0 1 2 3 0]\n",
      " [0 4 5 6 0]\n",
      " [0 7 8 9 0]\n",
      " [0 0 0 0 0]]\n"
     ]
    }
   ],
   "source": [
    "#### 16. How to add a border (filled with 0's) around an existing array? (★☆☆)\n",
    "existing_array = np.array([[1, 2, 3],\n",
    "                           [4, 5, 6],\n",
    "                           [7, 8, 9]])\n",
    "\n",
    "border_width = 1\n",
    "\n",
    "padded_array = np.pad(existing_array, pad_width=border_width, mode='constant')\n",
    "\n",
    "print(\"Existing Array:\")\n",
    "print(existing_array)\n",
    "\n",
    "print(\"\\nPadded Array:\")\n",
    "print(padded_array)"
   ]
  },
  {
   "cell_type": "code",
   "execution_count": 18,
   "metadata": {},
   "outputs": [
    {
     "data": {
      "text/plain": [
       "False"
      ]
     },
     "execution_count": 18,
     "metadata": {},
     "output_type": "execute_result"
    }
   ],
   "source": [
    "#### 17. What is the result of the following expression? (★☆☆)\n",
    "0 * np.nan\n",
    "np.nan == np.nan\n",
    "np.inf > np.nan\n",
    "np.nan - np.nan\n",
    "np.nan in set([np.nan])\n",
    "0.3 == 3 * 0.1"
   ]
  },
  {
   "cell_type": "code",
   "execution_count": 19,
   "metadata": {},
   "outputs": [
    {
     "name": "stdout",
     "output_type": "stream",
     "text": [
      "[[0. 0. 0. 0. 0.]\n",
      " [1. 0. 0. 0. 0.]\n",
      " [0. 2. 0. 0. 0.]\n",
      " [0. 0. 3. 0. 0.]\n",
      " [0. 0. 0. 4. 0.]]\n"
     ]
    }
   ],
   "source": [
    "#### 18. Create a 5x5 matrix with values 1,2,3,4 just below the diagonal (★☆☆)\n",
    "matrix = np.zeros((5, 5))\n",
    "diagonal_values = [1, 2, 3, 4]\n",
    "\n",
    "# Assign values just below the diagonal\n",
    "np.fill_diagonal(matrix[1:], diagonal_values)\n",
    "\n",
    "print(matrix)"
   ]
  },
  {
   "cell_type": "code",
   "execution_count": 20,
   "metadata": {},
   "outputs": [
    {
     "name": "stdout",
     "output_type": "stream",
     "text": [
      "[['★' '' '★' '' '★' '' '★' '']\n",
      " ['' '★' '' '★' '' '★' '' '★']\n",
      " ['★' '' '★' '' '★' '' '★' '']\n",
      " ['' '★' '' '★' '' '★' '' '★']\n",
      " ['★' '' '★' '' '★' '' '★' '']\n",
      " ['' '★' '' '★' '' '★' '' '★']\n",
      " ['★' '' '★' '' '★' '' '★' '']\n",
      " ['' '★' '' '★' '' '★' '' '★']]\n"
     ]
    }
   ],
   "source": [
    "#### 19. Create a 8x8 matrix and fill it with a checkerboard pattern (★☆☆)\n",
    "matrix = np.zeros((8, 8), dtype=str)\n",
    "matrix[::2, ::2] = \"★\"  # Set stars in even rows and even columns\n",
    "matrix[1::2, 1::2] = \"★\"  # Set stars in odd rows and odd columns\n",
    "print(matrix)"
   ]
  },
  {
   "cell_type": "code",
   "execution_count": 21,
   "metadata": {},
   "outputs": [
    {
     "name": "stdout",
     "output_type": "stream",
     "text": [
      "Index (x, y, z) of the 100th element: (1, 5, 4)\n"
     ]
    }
   ],
   "source": [
    "#### 20. Consider a (6,7,8) shape array, what is the index (x,y,z) of the 100th element? (★☆☆)\n",
    "\n",
    "array_shape = (6, 7, 8)\n",
    "total_elements = np.prod(array_shape)  # Compute the total number of elements in the array\n",
    "element_index = 100\n",
    "\n",
    "# Check if the element index is within the valid range\n",
    "if element_index >= total_elements:\n",
    "    print(\"Element index is out of range for the given array shape.\")\n",
    "else:\n",
    "    # Compute the index (x, y, z) of the element\n",
    "    indices = np.unravel_index(element_index, array_shape)\n",
    "    print(\"Index (x, y, z) of the 100th element:\", indices)\n"
   ]
  },
  {
   "cell_type": "code",
   "execution_count": 22,
   "metadata": {},
   "outputs": [
    {
     "name": "stdout",
     "output_type": "stream",
     "text": [
      "[[0 1 0 1 0 1 0 1]\n",
      " [1 0 1 0 1 0 1 0]\n",
      " [0 1 0 1 0 1 0 1]\n",
      " [1 0 1 0 1 0 1 0]\n",
      " [0 1 0 1 0 1 0 1]\n",
      " [1 0 1 0 1 0 1 0]\n",
      " [0 1 0 1 0 1 0 1]\n",
      " [1 0 1 0 1 0 1 0]]\n"
     ]
    }
   ],
   "source": [
    "#### 21. Create a checkerboard 8x8 matrix using the tile function (★☆☆)\n",
    "\n",
    "base_pattern = np.array([[0, 1], [1, 0]])\n",
    "checkerboard = np.tile(base_pattern, (4, 4))\n",
    "\n",
    "print(checkerboard)"
   ]
  },
  {
   "cell_type": "code",
   "execution_count": 23,
   "metadata": {},
   "outputs": [
    {
     "name": "stdout",
     "output_type": "stream",
     "text": [
      "Random Matrix:\n",
      "[[0.91269816 0.9445402  0.78170261 0.98694607 0.79986149]\n",
      " [0.88342202 0.93282266 0.098863   0.46337616 0.91051782]\n",
      " [0.81637362 0.19932728 0.47069924 0.68154342 0.32334647]\n",
      " [0.29473278 0.12058298 0.44256159 0.96707158 0.48626399]\n",
      " [0.94650068 0.37647976 0.02536503 0.83521318 0.84239088]]\n",
      "\n",
      "Normalized Matrix:\n",
      "3.473529330559118\n"
     ]
    }
   ],
   "source": [
    "#### 22. Normalize a 5x5 random matrix (★☆☆)\n",
    "random_matrix = np.random.random((5, 5))\n",
    "normalized_matrix = np.linalg.norm(random_matrix)\n",
    "\n",
    "print(\"Random Matrix:\")\n",
    "print(random_matrix)\n",
    "\n",
    "print(\"\\nNormalized Matrix:\")\n",
    "print(normalized_matrix)\n"
   ]
  },
  {
   "cell_type": "code",
   "execution_count": 24,
   "metadata": {},
   "outputs": [
    {
     "name": "stdout",
     "output_type": "stream",
     "text": [
      "[(255,   0,   0, 255) (  0, 255,   0, 255) (  0,   0, 255, 255)]\n"
     ]
    }
   ],
   "source": [
    "#### 23. Create a custom dtype that describes a color as four unsigned bytes (RGBA) (★☆☆)\n",
    "# Define the custom dtype\n",
    "color_dtype = np.dtype([('R', np.uint8), ('G', np.uint8), ('B', np.uint8), ('A', np.uint8)])\n",
    "# Create a color array using the custom dtype\n",
    "color_array = np.array([(255, 0, 0, 255), (0, 255, 0, 255), (0, 0, 255, 255)], dtype=color_dtype)\n",
    "print(color_array)"
   ]
  },
  {
   "cell_type": "code",
   "execution_count": 25,
   "metadata": {},
   "outputs": [
    {
     "name": "stdout",
     "output_type": "stream",
     "text": [
      "Matrix 1:\n",
      "[[0.61067419 0.40669423 0.24529205]\n",
      " [0.69147687 0.74627028 0.61184867]\n",
      " [0.94669967 0.31440522 0.86445669]\n",
      " [0.37567043 0.32163998 0.83739722]\n",
      " [0.80152347 0.79264891 0.34141645]]\n",
      "\n",
      "Matrix 2:\n",
      "[[0.8687649  0.09996198]\n",
      " [0.14062141 0.39867886]\n",
      " [0.96250211 0.14796691]]\n",
      "\n",
      "Matrix Product:\n",
      "[[0.82381634 0.2594797 ]\n",
      " [1.29457805 0.45717694]\n",
      " [1.69871294 0.34789168]\n",
      " [1.17759534 0.2896909 ]\n",
      " [1.13641291 0.44665258]]\n"
     ]
    }
   ],
   "source": [
    "#### 24. Multiply a 5x3 matrix by a 3x2 matrix (real matrix product) (★☆☆)\n",
    "matrix1 = np.random.random((5, 3))\n",
    "matrix2 = np.random.random((3, 2))\n",
    "\n",
    "product = np.dot(matrix1, matrix2)\n",
    "\n",
    "print(\"Matrix 1:\")\n",
    "print(matrix1)\n",
    "\n",
    "print(\"\\nMatrix 2:\")\n",
    "print(matrix2)\n",
    "\n",
    "print(\"\\nMatrix Product:\")\n",
    "print(product)"
   ]
  },
  {
   "cell_type": "code",
   "execution_count": 26,
   "metadata": {},
   "outputs": [
    {
     "name": "stdout",
     "output_type": "stream",
     "text": [
      "[ 1 -5 -4  9 -7  2 -6 -3 -8]\n"
     ]
    }
   ],
   "source": [
    "#### 25. Given a 1D array, negate all elements which are between 3 and 8, in place. (★☆☆)\n",
    "\n",
    "arr = np.array([1, 5, 4, 9, 7, 2, 6, 3, 8])\n",
    "\n",
    "# Find the indices of elements between 3 and 8\n",
    "indices = np.where((arr >= 3) & (arr <= 8))\n",
    "\n",
    "# Negate the elements at the found indices\n",
    "arr[indices] = -arr[indices]\n",
    "\n",
    "print(arr)"
   ]
  },
  {
   "cell_type": "code",
   "execution_count": 27,
   "metadata": {},
   "outputs": [
    {
     "name": "stdout",
     "output_type": "stream",
     "text": [
      "9\n",
      "10\n"
     ]
    }
   ],
   "source": [
    "#### 26. What is the output of the following script? (★☆☆)\n",
    "print(sum(range(5),-1))\n",
    "from numpy import *\n",
    "print(sum(range(5),-1))"
   ]
  },
  {
   "cell_type": "code",
   "execution_count": 29,
   "metadata": {},
   "outputs": [
    {
     "data": {
      "text/plain": [
       "'Z**Z\\n2 << Z >> 2\\nZ <- Z\\n1j*Z\\nZ/1/1\\nZ<Z>Z '"
      ]
     },
     "execution_count": 29,
     "metadata": {},
     "output_type": "execute_result"
    }
   ],
   "source": [
    "#### 27. Consider an integer vector Z, which of these expressions are legal? (★☆☆)\n",
    "\"\"\"Z**Z\n",
    "2 << Z >> 2\n",
    "Z <- Z\n",
    "1j*Z\n",
    "Z/1/1\n",
    "Z<Z>Z \"\"\""
   ]
  },
  {
   "cell_type": "code",
   "execution_count": 30,
   "metadata": {},
   "outputs": [
    {
     "name": "stderr",
     "output_type": "stream",
     "text": [
      "/tmp/ipykernel_887/2409017176.py:2: RuntimeWarning: invalid value encountered in divide\n",
      "  np.array(0) / np.array(0)\n",
      "/tmp/ipykernel_887/2409017176.py:3: RuntimeWarning: divide by zero encountered in floor_divide\n",
      "  np.array(0) // np.array(0)\n",
      "/tmp/ipykernel_887/2409017176.py:4: RuntimeWarning: invalid value encountered in cast\n",
      "  np.array([np.nan]).astype(int).astype(float)\n"
     ]
    },
    {
     "data": {
      "text/plain": [
       "array([-9.22337204e+18])"
      ]
     },
     "execution_count": 30,
     "metadata": {},
     "output_type": "execute_result"
    }
   ],
   "source": [
    "#### 28. What are the result of the following expressions? (★☆☆)\n",
    "np.array(0) / np.array(0)\n",
    "np.array(0) // np.array(0)\n",
    "np.array([np.nan]).astype(int).astype(float)"
   ]
  },
  {
   "cell_type": "code",
   "execution_count": 31,
   "metadata": {},
   "outputs": [
    {
     "name": "stdout",
     "output_type": "stream",
     "text": [
      "[-2.  3. -5.  6. -1.]\n"
     ]
    }
   ],
   "source": [
    "#### 29. How to round away from zero a float array ? (★☆☆)\n",
    "\n",
    "arr = np.array([-1.5, 2.3, -4.7, 5.9, -0.1])\n",
    "\n",
    "rounded_arr = np.ceil(np.abs(arr)) * np.copysign(1, arr)\n",
    "\n",
    "print(rounded_arr)"
   ]
  },
  {
   "cell_type": "code",
   "execution_count": 32,
   "metadata": {},
   "outputs": [
    {
     "name": "stdout",
     "output_type": "stream",
     "text": [
      "[4 5]\n"
     ]
    }
   ],
   "source": [
    "#### 30. How to find common values between two arrays? (★☆☆)\n",
    "\n",
    "array1 = np.array([1, 2, 3, 4, 5])\n",
    "array2 = np.array([4, 5, 6, 7, 8])\n",
    "\n",
    "common_values = np.intersect1d(array1, array2)\n",
    "\n",
    "print(common_values)\n"
   ]
  },
  {
   "cell_type": "code",
   "execution_count": 38,
   "metadata": {},
   "outputs": [],
   "source": [
    "#### 31. How to ignore all numpy warnings (not recommended)? (★☆☆)\n",
    "\n",
    "import numpy as np\n",
    "import warnings\n",
    "\n",
    "# Ignore all NumPy warnings\n",
    "warnings.filterwarnings('ignore', category=FutureWarning)\n",
    "\n",
    "# Reset warnings to default behavior\n",
    "warnings.resetwarnings()"
   ]
  },
  {
   "cell_type": "code",
   "execution_count": 39,
   "metadata": {},
   "outputs": [
    {
     "name": "stderr",
     "output_type": "stream",
     "text": [
      "/tmp/ipykernel_887/306841201.py:2: RuntimeWarning: invalid value encountered in sqrt\n",
      "  np.sqrt(-1) == np.emath.sqrt(-1)\n"
     ]
    },
    {
     "data": {
      "text/plain": [
       "False"
      ]
     },
     "execution_count": 39,
     "metadata": {},
     "output_type": "execute_result"
    }
   ],
   "source": [
    "#### 32. Is the following expressions true? (★☆☆)\n",
    "np.sqrt(-1) == np.emath.sqrt(-1)"
   ]
  },
  {
   "cell_type": "code",
   "execution_count": 40,
   "metadata": {},
   "outputs": [
    {
     "name": "stdout",
     "output_type": "stream",
     "text": [
      "Yesterday: 2024-02-06\n",
      "Today: 2024-02-07\n",
      "Tomorrow: 2024-02-08\n"
     ]
    }
   ],
   "source": [
    "#### 33. How to get the dates of yesterday, today and tomorrow? (★☆☆)\n",
    "from datetime import datetime, timedelta\n",
    "\n",
    "# Get today's date\n",
    "today = datetime.now().date()\n",
    "\n",
    "# Get yesterday's date\n",
    "yesterday = today - timedelta(days=1)\n",
    "\n",
    "# Get tomorrow's date\n",
    "tomorrow = today + timedelta(days=1)\n",
    "\n",
    "# Print the dates\n",
    "print(\"Yesterday:\", yesterday)\n",
    "print(\"Today:\", today)\n",
    "print(\"Tomorrow:\", tomorrow)\n"
   ]
  },
  {
   "cell_type": "code",
   "execution_count": 41,
   "metadata": {},
   "outputs": [
    {
     "name": "stdout",
     "output_type": "stream",
     "text": [
      "2016-07-01\n",
      "2016-07-02\n",
      "2016-07-03\n",
      "2016-07-04\n",
      "2016-07-05\n",
      "2016-07-06\n",
      "2016-07-07\n",
      "2016-07-08\n",
      "2016-07-09\n",
      "2016-07-10\n",
      "2016-07-11\n",
      "2016-07-12\n",
      "2016-07-13\n",
      "2016-07-14\n",
      "2016-07-15\n",
      "2016-07-16\n",
      "2016-07-17\n",
      "2016-07-18\n",
      "2016-07-19\n",
      "2016-07-20\n",
      "2016-07-21\n",
      "2016-07-22\n",
      "2016-07-23\n",
      "2016-07-24\n",
      "2016-07-25\n",
      "2016-07-26\n",
      "2016-07-27\n",
      "2016-07-28\n",
      "2016-07-29\n",
      "2016-07-30\n",
      "2016-07-31\n"
     ]
    }
   ],
   "source": [
    "#### 34. How to get all the dates corresponding to the month of July 2016? (★★☆)\n",
    "from datetime import datetime, timedelta\n",
    "\n",
    "def get_dates_in_month(year, month):\n",
    "    start_date = datetime(year, month, 1).date()\n",
    "    next_month = start_date.replace(day=28) + timedelta(days=4)  # Add 4 days to go beyond end of month\n",
    "    end_date = next_month - timedelta(days=next_month.day)\n",
    "\n",
    "    dates_in_month = []\n",
    "    current_date = start_date\n",
    "    while current_date <= end_date:\n",
    "        dates_in_month.append(current_date)\n",
    "        current_date += timedelta(days=1)\n",
    "\n",
    "    return dates_in_month\n",
    "\n",
    "# Get all the dates in July 2016\n",
    "dates_july_2016 = get_dates_in_month(2016, 7)\n",
    "\n",
    "# Print the dates\n",
    "for date in dates_july_2016:\n",
    "    print(date)\n"
   ]
  },
  {
   "cell_type": "code",
   "execution_count": 43,
   "metadata": {},
   "outputs": [
    {
     "name": "stdout",
     "output_type": "stream",
     "text": [
      "[-2.5 -3.5 -4.5]\n"
     ]
    }
   ],
   "source": [
    "#### 35. How to compute ((A+B)*(-A/2)) in place (without copy)? (★★☆)\n",
    "\n",
    "\n",
    "A = np.array([1, 2, 3], dtype=float)\n",
    "B = np.array([4, 5, 6])\n",
    "\n",
    "# Compute ((A+B)*(-A/2)) in place\n",
    "np.add(A, B, out=A)\n",
    "np.negative(A, out=A)\n",
    "np.divide(A, 2, out=A)\n",
    "\n",
    "# Print the result\n",
    "print(A)"
   ]
  },
  {
   "cell_type": "code",
   "execution_count": 45,
   "metadata": {},
   "outputs": [
    {
     "name": "stdout",
     "output_type": "stream",
     "text": [
      "Method 1 (np.floor()): [2. 8. 9. 0. 3.]\n",
      "Method 2 (np.trunc()): [2. 8. 9. 0. 3.]\n",
      "Method 3 (np.ceil() and subtraction): [2. 8. 9. 0. 3.]\n",
      "Method 4 (np.astype()): [2 8 9 0 3]\n"
     ]
    }
   ],
   "source": [
    "#### 36. Extract the integer part of a random array of positive numbers using 4 different methods (★★☆)\n",
    "# Generate a random array of positive numbers\n",
    "arr = np.random.rand(5) * 10  # Adjust the size of the array as needed\n",
    "\n",
    "# Method 1: Using np.floor()\n",
    "int_part_1 = np.floor(arr)\n",
    "print(\"Method 1 (np.floor()):\", int_part_1)\n",
    "\n",
    "# Method 2: Using np.trunc()\n",
    "int_part_2 = np.trunc(arr)\n",
    "print(\"Method 2 (np.trunc()):\", int_part_2)\n",
    "\n",
    "# Method 3: Using np.ceil() and subtraction\n",
    "int_part_3 = arr - (arr % 1)\n",
    "print(\"Method 3 (np.ceil() and subtraction):\", int_part_3)\n",
    "\n",
    "# Method 4: Using np.astype()\n",
    "int_part_4 = arr.astype(int)\n",
    "print(\"Method 4 (np.astype()):\", int_part_4)\n"
   ]
  },
  {
   "cell_type": "code",
   "execution_count": 46,
   "metadata": {},
   "outputs": [
    {
     "name": "stdout",
     "output_type": "stream",
     "text": [
      "[[0 1 2 3 4]\n",
      " [0 1 2 3 4]\n",
      " [0 1 2 3 4]\n",
      " [0 1 2 3 4]\n",
      " [0 1 2 3 4]]\n"
     ]
    }
   ],
   "source": [
    "#### 37. Create a 5x5 matrix with row values ranging from 0 to 4 (★★☆)\n",
    "\n",
    "# Create a 1-dimensional array ranging from 0 to 4\n",
    "row_values = np.arange(5)\n",
    "\n",
    "# Create a 5x5 matrix by broadcasting the row values\n",
    "matrix = np.tile(row_values, (5, 1))\n",
    "\n",
    "# Print the matrix\n",
    "print(matrix)"
   ]
  },
  {
   "cell_type": "code",
   "execution_count": 47,
   "metadata": {},
   "outputs": [
    {
     "name": "stdout",
     "output_type": "stream",
     "text": [
      "[0 1 2 3 4 5 6 7 8 9]\n"
     ]
    }
   ],
   "source": [
    "#### 38. Consider a generator function that generates 10 integers and use it to build an array (★☆☆)\n",
    "def integer_generator():\n",
    "    for i in range(10):\n",
    "        yield i\n",
    "\n",
    "# Create an array using the generator function\n",
    "array = np.fromiter(integer_generator(), dtype=int)\n",
    "\n",
    "# Print the array\n",
    "print(array)"
   ]
  },
  {
   "cell_type": "code",
   "execution_count": 48,
   "metadata": {},
   "outputs": [
    {
     "name": "stdout",
     "output_type": "stream",
     "text": [
      "[0.1 0.2 0.3 0.4 0.5 0.6 0.7 0.8 0.9]\n"
     ]
    }
   ],
   "source": [
    "#### 39. Create a vector of size 10 with values ranging from 0 to 1, both excluded (★★☆)\n",
    "vector = np.linspace(0, 1, 10, endpoint=False)[1:]\n",
    "\n",
    "# Print the vector\n",
    "print(vector)"
   ]
  },
  {
   "cell_type": "code",
   "execution_count": 49,
   "metadata": {},
   "outputs": [
    {
     "name": "stdout",
     "output_type": "stream",
     "text": [
      "[0.15136732 0.22922223 0.26636518 0.34614265 0.45668899 0.64755181\n",
      " 0.65429766 0.76620199 0.86676736 0.93446671]\n"
     ]
    }
   ],
   "source": [
    "#### 40. Create a random vector of size 10 and sort it (★★☆)\n",
    "\n",
    "# Create a random vector of size 10\n",
    "vector = np.random.rand(10)\n",
    "\n",
    "# Sort the vector\n",
    "sorted_vector = np.sort(vector)\n",
    "\n",
    "# Print the sorted vector\n",
    "print(sorted_vector)\n"
   ]
  },
  {
   "cell_type": "code",
   "execution_count": 53,
   "metadata": {},
   "outputs": [],
   "source": [
    "#### 41. How to sum a small array faster than np.sum? (★★☆)\n",
    "import math\n",
    "arr = [1, 2, 3, 4, 5]\n",
    "total = sum(arr)\n",
    "\n",
    "\n",
    "arr = [1.1, 2.2, 3.3, 4.4, 5.5]\n",
    "total = math.fsum(arr)\n"
   ]
  },
  {
   "cell_type": "code",
   "execution_count": 54,
   "metadata": {},
   "outputs": [
    {
     "name": "stdout",
     "output_type": "stream",
     "text": [
      "False\n"
     ]
    }
   ],
   "source": [
    "#### 42. Consider two random array A and B, check if they are equal (★★☆)\n",
    "# Generate two random arrays A and B\n",
    "A = np.random.rand(5)\n",
    "B = np.random.rand(5)\n",
    "\n",
    "# Check if A and B are equal\n",
    "are_equal = np.array_equal(A, B)\n",
    "\n",
    "# Print the result\n",
    "print(are_equal)"
   ]
  },
  {
   "cell_type": "code",
   "execution_count": 56,
   "metadata": {},
   "outputs": [
    {
     "ename": "ValueError",
     "evalue": "assignment destination is read-only",
     "output_type": "error",
     "traceback": [
      "\u001b[0;31m---------------------------------------------------------------------------\u001b[0m",
      "\u001b[0;31mValueError\u001b[0m                                Traceback (most recent call last)",
      "Cell \u001b[0;32mIn[56], line 9\u001b[0m\n\u001b[1;32m      6\u001b[0m immutable_array\u001b[38;5;241m.\u001b[39mflags\u001b[38;5;241m.\u001b[39mwriteable \u001b[38;5;241m=\u001b[39m \u001b[38;5;28;01mFalse\u001b[39;00m\n\u001b[1;32m      8\u001b[0m \u001b[38;5;66;03m# Try to modify the immutable array (raises an error)\u001b[39;00m\n\u001b[0;32m----> 9\u001b[0m \u001b[43mimmutable_array\u001b[49m\u001b[43m[\u001b[49m\u001b[38;5;241;43m0\u001b[39;49m\u001b[43m]\u001b[49m \u001b[38;5;241m=\u001b[39m \u001b[38;5;241m10\u001b[39m\n",
      "\u001b[0;31mValueError\u001b[0m: assignment destination is read-only"
     ]
    }
   ],
   "source": [
    "#### 43. Make an array immutable (read-only) (★★☆)\n",
    "mutable_array = np.array([1, 2, 3, 4, 5])\n",
    "\n",
    "# Make the array immutable\n",
    "immutable_array = mutable_array.copy()\n",
    "immutable_array.flags.writeable = False\n",
    "\n",
    "# Try to modify the immutable array (raises an error)\n",
    "immutable_array[0] = 10\n"
   ]
  },
  {
   "cell_type": "code",
   "execution_count": 57,
   "metadata": {},
   "outputs": [
    {
     "name": "stdout",
     "output_type": "stream",
     "text": [
      "[[0.72137793 0.07659608]\n",
      " [0.52718994 0.75339786]\n",
      " [1.17620382 0.87920234]\n",
      " [1.12093269 0.77136412]\n",
      " [0.96979514 0.58584751]\n",
      " [1.04094008 1.17857997]\n",
      " [0.97262223 0.7170525 ]\n",
      " [0.8625558  0.33960741]\n",
      " [0.71014822 0.62058519]\n",
      " [0.83412606 0.69300385]]\n"
     ]
    }
   ],
   "source": [
    "#### 44. Consider a random 10x2 matrix representing cartesian coordinates, convert them to polar coordinates (★★☆)\n",
    "\n",
    "# Create a random 10x2 matrix representing Cartesian coordinates\n",
    "cartesian_coords = np.random.rand(10, 2)\n",
    "\n",
    "# Convert Cartesian coordinates to polar coordinates\n",
    "x = cartesian_coords[:, 0]\n",
    "y = cartesian_coords[:, 1]\n",
    "r = np.hypot(x, y)\n",
    "theta = np.arctan2(y, x)\n",
    "\n",
    "# Stack r and theta to form a 10x2 matrix representing polar coordinates\n",
    "polar_coords = np.column_stack((r, theta))\n",
    "\n",
    "# Print the polar coordinates\n",
    "print(polar_coords)"
   ]
  },
  {
   "cell_type": "code",
   "execution_count": 58,
   "metadata": {},
   "outputs": [
    {
     "name": "stdout",
     "output_type": "stream",
     "text": [
      "[0.00470444 0.45813354 0.45992459 0.23603075 0.08332563 0.46848198\n",
      " 0.62062105 0.         0.59725239 0.36851303]\n"
     ]
    }
   ],
   "source": [
    "#### 45. Create random vector of size 10 and replace the maximum value by 0 (★★☆)\n",
    "# Create a random vector of size 10\n",
    "vector = np.random.rand(10)\n",
    "\n",
    "# Find the maximum value in the vector\n",
    "max_value = np.max(vector)\n",
    "\n",
    "# Replace the maximum value with 0\n",
    "vector[vector == max_value] = 0\n",
    "\n",
    "# Print the updated vector\n",
    "print(vector)"
   ]
  },
  {
   "cell_type": "code",
   "execution_count": 59,
   "metadata": {},
   "outputs": [
    {
     "name": "stdout",
     "output_type": "stream",
     "text": [
      "[(0.  , 0.  ) (0.25, 0.  ) (0.5 , 0.  ) (0.75, 0.  ) (1.  , 0.  )\n",
      " (0.  , 0.25) (0.25, 0.25) (0.5 , 0.25) (0.75, 0.25) (1.  , 0.25)\n",
      " (0.  , 0.5 ) (0.25, 0.5 ) (0.5 , 0.5 ) (0.75, 0.5 ) (1.  , 0.5 )\n",
      " (0.  , 0.75) (0.25, 0.75) (0.5 , 0.75) (0.75, 0.75) (1.  , 0.75)\n",
      " (0.  , 1.  ) (0.25, 1.  ) (0.5 , 1.  ) (0.75, 1.  ) (1.  , 1.  )]\n"
     ]
    }
   ],
   "source": [
    "#### 46. Create a structured array with `x` and `y` coordinates covering the [0,1]x[0,1] area (★★☆)\n",
    "# Define the number of points in each dimension\n",
    "num_points = 5\n",
    "\n",
    "# Create a grid of x and y coordinates\n",
    "x_coords = np.linspace(0, 1, num_points)\n",
    "y_coords = np.linspace(0, 1, num_points)\n",
    "xx, yy = np.meshgrid(x_coords, y_coords)\n",
    "\n",
    "# Create a structured array\n",
    "structured_array = np.zeros((num_points*num_points,), dtype=[('x', float), ('y', float)])\n",
    "structured_array['x'] = xx.flatten()\n",
    "structured_array['y'] = yy.flatten()\n",
    "\n",
    "# Print the structured array\n",
    "print(structured_array)\n"
   ]
  },
  {
   "cell_type": "code",
   "execution_count": 60,
   "metadata": {},
   "outputs": [
    {
     "name": "stdout",
     "output_type": "stream",
     "text": [
      "[[-0.33333333 -0.25       -0.2       ]\n",
      " [-0.5        -0.33333333 -0.25      ]\n",
      " [-1.         -0.5        -0.33333333]]\n"
     ]
    }
   ],
   "source": [
    "#### 47. Given two arrays, X and Y, construct the Cauchy matrix C (Cij =1/(xi - yj)) (★★☆)\n",
    "\n",
    "# Example arrays X and Y\n",
    "X = np.array([1, 2, 3])\n",
    "Y = np.array([4, 5, 6])\n",
    "\n",
    "# Compute the Cauchy matrix\n",
    "C = 1 / (X[:, np.newaxis] - Y)\n",
    "\n",
    "# Print the Cauchy matrix\n",
    "print(C)"
   ]
  },
  {
   "cell_type": "code",
   "execution_count": 61,
   "metadata": {},
   "outputs": [
    {
     "name": "stdout",
     "output_type": "stream",
     "text": [
      "int8: min=-128, max=127\n",
      "int16: min=-32768, max=32767\n",
      "int32: min=-2147483648, max=2147483647\n",
      "int64: min=-9223372036854775808, max=9223372036854775807\n",
      "uint8: min=0, max=255\n",
      "uint16: min=0, max=65535\n",
      "uint32: min=0, max=4294967295\n",
      "uint64: min=0, max=18446744073709551615\n",
      "float16: min=-65504.0, max=65504.0\n",
      "float32: min=-3.4028234663852886e+38, max=3.4028234663852886e+38\n",
      "float64: min=-1.7976931348623157e+308, max=1.7976931348623157e+308\n"
     ]
    }
   ],
   "source": [
    "#### 48. Print the minimum and maximum representable value for each numpy scalar type (★★☆)\n",
    "# Integer scalar types\n",
    "integer_types = [np.int8, np.int16, np.int32, np.int64,\n",
    "                 np.uint8, np.uint16, np.uint32, np.uint64]\n",
    "\n",
    "for int_type in integer_types:\n",
    "    info = np.iinfo(int_type)\n",
    "    print(f\"{int_type.__name__}: min={info.min}, max={info.max}\")\n",
    "\n",
    "# Floating-point scalar types\n",
    "float_types = [np.float16, np.float32, np.float64]\n",
    "\n",
    "for float_type in float_types:\n",
    "    info = np.finfo(float_type)\n",
    "    print(f\"{float_type.__name__}: min={info.min}, max={info.max}\")"
   ]
  },
  {
   "cell_type": "code",
   "execution_count": 62,
   "metadata": {},
   "outputs": [
    {
     "name": "stdout",
     "output_type": "stream",
     "text": [
      "[1 2 3 4 5]\n"
     ]
    }
   ],
   "source": [
    "#### 49. How to print all the values of an array? (★★☆)\n",
    "\n",
    "# Create an example array\n",
    "arr = np.array([1, 2, 3, 4, 5])\n",
    "# Print all the values of the array\n",
    "print(arr)"
   ]
  },
  {
   "cell_type": "code",
   "execution_count": 63,
   "metadata": {},
   "outputs": [
    {
     "name": "stdout",
     "output_type": "stream",
     "text": [
      "7\n"
     ]
    }
   ],
   "source": [
    "#### 50. How to find the closest value (to a given scalar) in a vector? (★★☆)\n",
    "# Example vector\n",
    "vector = np.array([1, 4, 7, 10])\n",
    "\n",
    "# Target scalar\n",
    "target = 6\n",
    "\n",
    "# Find the index of the closest value\n",
    "index = np.abs(vector - target).argmin()\n",
    "\n",
    "# Get the closest value\n",
    "closest_value = vector[index]\n",
    "\n",
    "# Print the closest value\n",
    "print(closest_value)"
   ]
  },
  {
   "cell_type": "code",
   "execution_count": 64,
   "metadata": {},
   "outputs": [
    {
     "name": "stdout",
     "output_type": "stream",
     "text": [
      "[((1., 2.), (255,   0,   0)) ((3., 4.), (  0, 255,   0))\n",
      " ((5., 6.), (  0,   0, 255))]\n"
     ]
    }
   ],
   "source": [
    "#### 51. Create a structured array representing a position (x,y) and a color (r,g,b) (★★☆)\n",
    "\n",
    "# Define the structured data type\n",
    "dtype = np.dtype([('position', [('x', float), ('y', float)]),\n",
    "                  ('color', [('r', int), ('g', int), ('b', int)])])\n",
    "\n",
    "# Create a structured array\n",
    "structured_array = np.array([((1.0, 2.0), (255, 0, 0)),\n",
    "                             ((3.0, 4.0), (0, 255, 0)),\n",
    "                             ((5.0, 6.0), (0, 0, 255))], dtype=dtype)\n",
    "\n",
    "# Print the structured array\n",
    "print(structured_array)\n"
   ]
  }
 ],
 "metadata": {
  "kernelspec": {
   "display_name": "deep_learning",
   "language": "python",
   "name": "python3"
  },
  "language_info": {
   "codemirror_mode": {
    "name": "ipython",
    "version": 3
   },
   "file_extension": ".py",
   "mimetype": "text/x-python",
   "name": "python",
   "nbconvert_exporter": "python",
   "pygments_lexer": "ipython3",
   "version": "3.9.18"
  }
 },
 "nbformat": 4,
 "nbformat_minor": 2
}
