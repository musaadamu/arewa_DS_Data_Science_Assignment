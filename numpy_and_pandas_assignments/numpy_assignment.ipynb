{
 "cells": [
  {
   "cell_type": "code",
   "execution_count": 226,
   "metadata": {},
   "outputs": [],
   "source": [
    "\n",
    "#### 1. Import the numpy package under the name `np` (★☆☆)\n",
    "import numpy as np"
   ]
  },
  {
   "cell_type": "code",
   "execution_count": 227,
   "metadata": {},
   "outputs": [
    {
     "name": "stdout",
     "output_type": "stream",
     "text": [
      "1.26.3\n"
     ]
    }
   ],
   "source": [
    "#### 2. Print the numpy version and the configuration (★☆☆)\n",
    "print(np.__version__)"
   ]
  },
  {
   "cell_type": "code",
   "execution_count": 228,
   "metadata": {},
   "outputs": [
    {
     "name": "stdout",
     "output_type": "stream",
     "text": [
      "[0. 0. 0. 0. 0. 0. 0. 0. 0. 0.]\n"
     ]
    }
   ],
   "source": [
    "#### 3. Create a null vector of size 10 (★☆☆)\n",
    "null_vector = np.zeros(10)\n",
    "print(null_vector)"
   ]
  },
  {
   "cell_type": "code",
   "execution_count": 229,
   "metadata": {},
   "outputs": [
    {
     "name": "stdout",
     "output_type": "stream",
     "text": [
      "Memory size of the array: 96 bytes\n"
     ]
    }
   ],
   "source": [
    "#### 4. How to find the memory size of any array (★☆☆)\n",
    "arr = np.zeros((3, 4))\n",
    "memory_size = arr.nbytes\n",
    "print(\"Memory size of the array:\", memory_size, \"bytes\")\n"
   ]
  },
  {
   "cell_type": "code",
   "execution_count": 230,
   "metadata": {},
   "outputs": [
    {
     "name": "stdout",
     "output_type": "stream",
     "text": [
      "Help on ufunc in numpy:\n",
      "\n",
      "numpy.add = <ufunc 'add'>\n",
      "    add(x1, x2, /, out=None, *, where=True, casting='same_kind', order='K', dtype=None, subok=True[, signature, extobj])\n",
      "    \n",
      "    Add arguments element-wise.\n",
      "    \n",
      "    Parameters\n",
      "    ----------\n",
      "    x1, x2 : array_like\n",
      "        The arrays to be added.\n",
      "        If ``x1.shape != x2.shape``, they must be broadcastable to a common\n",
      "        shape (which becomes the shape of the output).\n",
      "    out : ndarray, None, or tuple of ndarray and None, optional\n",
      "        A location into which the result is stored. If provided, it must have\n",
      "        a shape that the inputs broadcast to. If not provided or None,\n",
      "        a freshly-allocated array is returned. A tuple (possible only as a\n",
      "        keyword argument) must have length equal to the number of outputs.\n",
      "    where : array_like, optional\n",
      "        This condition is broadcast over the input. At locations where the\n",
      "        condition is True, the `out` array will be set to the ufunc result.\n",
      "        Elsewhere, the `out` array will retain its original value.\n",
      "        Note that if an uninitialized `out` array is created via the default\n",
      "        ``out=None``, locations within it where the condition is False will\n",
      "        remain uninitialized.\n",
      "    **kwargs\n",
      "        For other keyword-only arguments, see the\n",
      "        :ref:`ufunc docs <ufuncs.kwargs>`.\n",
      "    \n",
      "    Returns\n",
      "    -------\n",
      "    add : ndarray or scalar\n",
      "        The sum of `x1` and `x2`, element-wise.\n",
      "        This is a scalar if both `x1` and `x2` are scalars.\n",
      "    \n",
      "    Notes\n",
      "    -----\n",
      "    Equivalent to `x1` + `x2` in terms of array broadcasting.\n",
      "    \n",
      "    Examples\n",
      "    --------\n",
      "    >>> np.add(1.0, 4.0)\n",
      "    5.0\n",
      "    >>> x1 = np.arange(9.0).reshape((3, 3))\n",
      "    >>> x2 = np.arange(3.0)\n",
      "    >>> np.add(x1, x2)\n",
      "    array([[  0.,   2.,   4.],\n",
      "           [  3.,   5.,   7.],\n",
      "           [  6.,   8.,  10.]])\n",
      "    \n",
      "    The ``+`` operator can be used as a shorthand for ``np.add`` on ndarrays.\n",
      "    \n",
      "    >>> x1 = np.arange(9.0).reshape((3, 3))\n",
      "    >>> x2 = np.arange(3.0)\n",
      "    >>> x1 + x2\n",
      "    array([[ 0.,  2.,  4.],\n",
      "           [ 3.,  5.,  7.],\n",
      "           [ 6.,  8., 10.]])\n",
      "\n"
     ]
    }
   ],
   "source": [
    "#### 5. How to get the documentation of the numpy add function from the command line? (★☆☆)\n",
    "!pydoc numpy.add"
   ]
  },
  {
   "cell_type": "code",
   "execution_count": 231,
   "metadata": {},
   "outputs": [
    {
     "name": "stdout",
     "output_type": "stream",
     "text": [
      "[0. 0. 0. 0. 1. 0. 0. 0. 0. 0.]\n"
     ]
    }
   ],
   "source": [
    "#### 6. Create a null vector of size 10 but the fifth value which is 1 (★☆☆)\n",
    "null_vector = np.zeros(10)\n",
    "null_vector[4] = 1\n",
    "print(null_vector)\n"
   ]
  },
  {
   "cell_type": "code",
   "execution_count": 232,
   "metadata": {},
   "outputs": [
    {
     "name": "stdout",
     "output_type": "stream",
     "text": [
      "[10 11 12 13 14 15 16 17 18 19 20 21 22 23 24 25 26 27 28 29 30 31 32 33\n",
      " 34 35 36 37 38 39 40 41 42 43 44 45 46 47 48 49]\n"
     ]
    }
   ],
   "source": [
    "#### 7. Create a vector with values ranging from 10 to 49 (★☆☆)\n",
    "vector = np.arange(10, 50)\n",
    "print(vector)\n"
   ]
  },
  {
   "cell_type": "code",
   "execution_count": 233,
   "metadata": {},
   "outputs": [
    {
     "name": "stdout",
     "output_type": "stream",
     "text": [
      "[49 48 47 46 45 44 43 42 41 40 39 38 37 36 35 34 33 32 31 30 29 28 27 26\n",
      " 25 24 23 22 21 20 19 18 17 16 15 14 13 12 11 10]\n"
     ]
    }
   ],
   "source": [
    "#### 8. Reverse a vector (first element becomes last) (★☆☆)\n",
    "vector = np.arange(10, 50)\n",
    "reversed_vector = vector[::-1]\n",
    "print(reversed_vector)"
   ]
  },
  {
   "cell_type": "code",
   "execution_count": 234,
   "metadata": {},
   "outputs": [
    {
     "name": "stdout",
     "output_type": "stream",
     "text": [
      "[[0 1 2]\n",
      " [3 4 5]\n",
      " [6 7 8]]\n"
     ]
    }
   ],
   "source": [
    "#### 9. Create a 3x3 matrix with values ranging from 0 to 8 (★☆☆)\n",
    "matrix = np.arange(9).reshape(3, 3)\n",
    "print(matrix)"
   ]
  },
  {
   "cell_type": "code",
   "execution_count": 235,
   "metadata": {},
   "outputs": [
    {
     "name": "stdout",
     "output_type": "stream",
     "text": [
      "(array([0, 1, 4]),)\n"
     ]
    }
   ],
   "source": [
    "#### 10. Find indices of non-zero elements from [1,2,0,0,4,0] (★☆☆)\n",
    "arr = np.array([1, 2, 0, 0, 4, 0])\n",
    "indices = np.nonzero(arr)\n",
    "print(indices)\n"
   ]
  },
  {
   "cell_type": "code",
   "execution_count": 236,
   "metadata": {},
   "outputs": [
    {
     "name": "stdout",
     "output_type": "stream",
     "text": [
      "[[1. 0. 0.]\n",
      " [0. 1. 0.]\n",
      " [0. 0. 1.]]\n"
     ]
    }
   ],
   "source": [
    "#### 11. Create a 3x3 identity matrix (★☆☆)\n",
    "identity_matrix = np.eye(3)\n",
    "print(identity_matrix)\n"
   ]
  },
  {
   "cell_type": "code",
   "execution_count": 237,
   "metadata": {},
   "outputs": [
    {
     "name": "stdout",
     "output_type": "stream",
     "text": [
      "[[[0.92913623 0.45866082 0.76857517]\n",
      "  [0.59165807 0.31050275 0.994431  ]\n",
      "  [0.03830747 0.16227257 0.89254236]]\n",
      "\n",
      " [[0.06056284 0.88682067 0.71522148]\n",
      "  [0.03668401 0.42932004 0.75447148]\n",
      "  [0.58310028 0.93587129 0.86764403]]\n",
      "\n",
      " [[0.33264764 0.0846272  0.94425704]\n",
      "  [0.51728677 0.07439762 0.81657561]\n",
      "  [0.86850647 0.63942464 0.44750897]]]\n"
     ]
    }
   ],
   "source": [
    "#### 12. Create a 3x3x3 array with random values (★☆☆)\n",
    "array = np.random.rand(3, 3, 3)\n",
    "print(array)"
   ]
  },
  {
   "cell_type": "code",
   "execution_count": 238,
   "metadata": {},
   "outputs": [
    {
     "name": "stdout",
     "output_type": "stream",
     "text": [
      "Array:\n",
      "[[0.66217301 0.7066837  0.89302996 0.95586168 0.51432093 0.79849453\n",
      "  0.96450956 0.15124334 0.01826798 0.86896377]\n",
      " [0.19527333 0.04247877 0.16009614 0.38411491 0.2192657  0.30525363\n",
      "  0.97529405 0.70440554 0.71219173 0.09468537]\n",
      " [0.73209837 0.73934433 0.65974502 0.2284363  0.42303618 0.84627645\n",
      "  0.67020163 0.73276883 0.5873744  0.4495866 ]\n",
      " [0.75905201 0.06792581 0.67316073 0.99720451 0.78019193 0.29056351\n",
      "  0.27781949 0.66721861 0.89585426 0.57794974]\n",
      " [0.52740229 0.16038413 0.71545696 0.70229862 0.96695139 0.30019218\n",
      "  0.75644548 0.43406526 0.55847279 0.81645386]\n",
      " [0.22199505 0.34286874 0.77330867 0.57045792 0.09242292 0.43018587\n",
      "  0.58663331 0.90951732 0.18848805 0.80595297]\n",
      " [0.13062448 0.24223566 0.24334388 0.8774792  0.19901769 0.78696073\n",
      "  0.46180653 0.99909077 0.8390915  0.73970313]\n",
      " [0.87072631 0.63403039 0.84365226 0.26112685 0.09770321 0.61593201\n",
      "  0.43469039 0.4264408  0.52674785 0.36138261]\n",
      " [0.62605953 0.03056837 0.96989134 0.92470899 0.93527016 0.3650035\n",
      "  0.53189096 0.9541306  0.90234606 0.79024448]\n",
      " [0.40733159 0.56433922 0.79291247 0.273012   0.62644937 0.82793432\n",
      "  0.70745479 0.47948063 0.58460836 0.98867554]]\n",
      "Minimum value: 0.018267981609676687\n",
      "Maximum value: 0.9990907677973108\n"
     ]
    }
   ],
   "source": [
    "#### 13. Create a 10x10 array with random values and find the minimum and maximum values (★☆☆)\n",
    "array = np.random.rand(10, 10)\n",
    "print(\"Array:\")\n",
    "print(array)\n",
    "\n",
    "minimum_value = np.min(array)\n",
    "maximum_value = np.max(array)\n",
    "\n",
    "print(\"Minimum value:\", minimum_value)\n",
    "print(\"Maximum value:\", maximum_value)"
   ]
  },
  {
   "cell_type": "code",
   "execution_count": 239,
   "metadata": {},
   "outputs": [
    {
     "name": "stdout",
     "output_type": "stream",
     "text": [
      "Vector:\n",
      "[0.60198779 0.78561775 0.72660476 0.70149062 0.71636906 0.45440975\n",
      " 0.47416017 0.46786274 0.03325461 0.24106533 0.15456401 0.88644501\n",
      " 0.27496937 0.13844263 0.11976693 0.69998983 0.00608331 0.4713044\n",
      " 0.11887111 0.84966338 0.95845036 0.95875462 0.44196411 0.64451482\n",
      " 0.59970414 0.3500389  0.44406449 0.0643237  0.79569903 0.24080351]\n",
      "Mean value: 0.48070800810506725\n"
     ]
    }
   ],
   "source": [
    "#### 14. Create a random vector of size 30 and find the mean value (★☆☆)\n",
    "import numpy as np\n",
    "\n",
    "vector = np.random.rand(30)\n",
    "print(\"Vector:\")\n",
    "print(vector)\n",
    "\n",
    "mean_value = np.mean(vector)\n",
    "print(\"Mean value:\", mean_value)\n"
   ]
  },
  {
   "cell_type": "code",
   "execution_count": 240,
   "metadata": {},
   "outputs": [
    {
     "name": "stdout",
     "output_type": "stream",
     "text": [
      "[[1. 1. 1. 1. 1.]\n",
      " [1. 0. 0. 0. 1.]\n",
      " [1. 0. 0. 0. 1.]\n",
      " [1. 0. 0. 0. 1.]\n",
      " [1. 1. 1. 1. 1.]]\n"
     ]
    }
   ],
   "source": [
    "#### 15. Create a 2d array with 1 on the border and 0 inside (★☆☆)\n",
    "rows = 5\n",
    "cols = 5\n",
    "\n",
    "array = np.zeros((rows, cols))\n",
    "array[0, :] = 1  # Top row\n",
    "array[-1, :] = 1  # Bottom row\n",
    "array[:, 0] = 1  # Left column\n",
    "array[:, -1] = 1  # Right column\n",
    "\n",
    "print(array)\n"
   ]
  },
  {
   "cell_type": "code",
   "execution_count": 241,
   "metadata": {},
   "outputs": [
    {
     "name": "stdout",
     "output_type": "stream",
     "text": [
      "Existing Array:\n",
      "[[1 2 3]\n",
      " [4 5 6]\n",
      " [7 8 9]]\n",
      "\n",
      "Padded Array:\n",
      "[[0 0 0 0 0]\n",
      " [0 1 2 3 0]\n",
      " [0 4 5 6 0]\n",
      " [0 7 8 9 0]\n",
      " [0 0 0 0 0]]\n"
     ]
    }
   ],
   "source": [
    "#### 16. How to add a border (filled with 0's) around an existing array? (★☆☆)\n",
    "existing_array = np.array([[1, 2, 3],\n",
    "                           [4, 5, 6],\n",
    "                           [7, 8, 9]])\n",
    "\n",
    "border_width = 1\n",
    "\n",
    "padded_array = np.pad(existing_array, pad_width=border_width, mode='constant')\n",
    "\n",
    "print(\"Existing Array:\")\n",
    "print(existing_array)\n",
    "\n",
    "print(\"\\nPadded Array:\")\n",
    "print(padded_array)"
   ]
  },
  {
   "cell_type": "code",
   "execution_count": 242,
   "metadata": {},
   "outputs": [
    {
     "data": {
      "text/plain": [
       "False"
      ]
     },
     "execution_count": 242,
     "metadata": {},
     "output_type": "execute_result"
    }
   ],
   "source": [
    "#### 17. What is the result of the following expression? (★☆☆)\n",
    "0 * np.nan\n",
    "np.nan == np.nan\n",
    "np.inf > np.nan\n",
    "np.nan - np.nan\n",
    "np.nan in set([np.nan])\n",
    "0.3 == 3 * 0.1"
   ]
  },
  {
   "cell_type": "code",
   "execution_count": 243,
   "metadata": {},
   "outputs": [
    {
     "name": "stdout",
     "output_type": "stream",
     "text": [
      "[[0. 0. 0. 0. 0.]\n",
      " [1. 0. 0. 0. 0.]\n",
      " [0. 2. 0. 0. 0.]\n",
      " [0. 0. 3. 0. 0.]\n",
      " [0. 0. 0. 4. 0.]]\n"
     ]
    }
   ],
   "source": [
    "#### 18. Create a 5x5 matrix with values 1,2,3,4 just below the diagonal (★☆☆)\n",
    "matrix = np.zeros((5, 5))\n",
    "diagonal_values = [1, 2, 3, 4]\n",
    "\n",
    "# Assign values just below the diagonal\n",
    "np.fill_diagonal(matrix[1:], diagonal_values)\n",
    "\n",
    "print(matrix)"
   ]
  },
  {
   "cell_type": "code",
   "execution_count": 244,
   "metadata": {},
   "outputs": [
    {
     "name": "stdout",
     "output_type": "stream",
     "text": [
      "[['★' '' '★' '' '★' '' '★' '']\n",
      " ['' '★' '' '★' '' '★' '' '★']\n",
      " ['★' '' '★' '' '★' '' '★' '']\n",
      " ['' '★' '' '★' '' '★' '' '★']\n",
      " ['★' '' '★' '' '★' '' '★' '']\n",
      " ['' '★' '' '★' '' '★' '' '★']\n",
      " ['★' '' '★' '' '★' '' '★' '']\n",
      " ['' '★' '' '★' '' '★' '' '★']]\n"
     ]
    }
   ],
   "source": [
    "#### 19. Create a 8x8 matrix and fill it with a checkerboard pattern (★☆☆)\n",
    "matrix = np.zeros((8, 8), dtype=str)\n",
    "matrix[::2, ::2] = \"★\"  # Set stars in even rows and even columns\n",
    "matrix[1::2, 1::2] = \"★\"  # Set stars in odd rows and odd columns\n",
    "print(matrix)"
   ]
  },
  {
   "cell_type": "code",
   "execution_count": 245,
   "metadata": {},
   "outputs": [
    {
     "name": "stdout",
     "output_type": "stream",
     "text": [
      "Index (x, y, z) of the 100th element: (1, 5, 4)\n"
     ]
    }
   ],
   "source": [
    "#### 20. Consider a (6,7,8) shape array, what is the index (x,y,z) of the 100th element? (★☆☆)\n",
    "\n",
    "array_shape = (6, 7, 8)\n",
    "total_elements = np.prod(array_shape)  # Compute the total number of elements in the array\n",
    "element_index = 100\n",
    "\n",
    "# Check if the element index is within the valid range\n",
    "if element_index >= total_elements:\n",
    "    print(\"Element index is out of range for the given array shape.\")\n",
    "else:\n",
    "    # Compute the index (x, y, z) of the element\n",
    "    indices = np.unravel_index(element_index, array_shape)\n",
    "    print(\"Index (x, y, z) of the 100th element:\", indices)\n"
   ]
  },
  {
   "cell_type": "code",
   "execution_count": 246,
   "metadata": {},
   "outputs": [
    {
     "name": "stdout",
     "output_type": "stream",
     "text": [
      "[[0 1 0 1 0 1 0 1]\n",
      " [1 0 1 0 1 0 1 0]\n",
      " [0 1 0 1 0 1 0 1]\n",
      " [1 0 1 0 1 0 1 0]\n",
      " [0 1 0 1 0 1 0 1]\n",
      " [1 0 1 0 1 0 1 0]\n",
      " [0 1 0 1 0 1 0 1]\n",
      " [1 0 1 0 1 0 1 0]]\n"
     ]
    }
   ],
   "source": [
    "#### 21. Create a checkerboard 8x8 matrix using the tile function (★☆☆)\n",
    "\n",
    "base_pattern = np.array([[0, 1], [1, 0]])\n",
    "checkerboard = np.tile(base_pattern, (4, 4))\n",
    "\n",
    "print(checkerboard)"
   ]
  },
  {
   "cell_type": "code",
   "execution_count": 247,
   "metadata": {},
   "outputs": [
    {
     "name": "stdout",
     "output_type": "stream",
     "text": [
      "Random Matrix:\n",
      "[[0.46052733 0.48062073 0.56071174 0.81787664 0.69188105]\n",
      " [0.66306305 0.5267455  0.09595575 0.40200847 0.95731685]\n",
      " [0.99554808 0.73049815 0.22751496 0.10189065 0.41476436]\n",
      " [0.8565719  0.72186424 0.88389224 0.61577631 0.13032836]\n",
      " [0.11479597 0.0480023  0.56707997 0.24288624 0.73438364]]\n",
      "\n",
      "Normalized Matrix:\n",
      "2.9725436778690337\n"
     ]
    }
   ],
   "source": [
    "#### 22. Normalize a 5x5 random matrix (★☆☆)\n",
    "random_matrix = np.random.random((5, 5))\n",
    "normalized_matrix = np.linalg.norm(random_matrix)\n",
    "\n",
    "print(\"Random Matrix:\")\n",
    "print(random_matrix)\n",
    "\n",
    "print(\"\\nNormalized Matrix:\")\n",
    "print(normalized_matrix)\n"
   ]
  },
  {
   "cell_type": "code",
   "execution_count": 248,
   "metadata": {},
   "outputs": [
    {
     "name": "stdout",
     "output_type": "stream",
     "text": [
      "[(255,   0,   0, 255) (  0, 255,   0, 255) (  0,   0, 255, 255)]\n"
     ]
    }
   ],
   "source": [
    "#### 23. Create a custom dtype that describes a color as four unsigned bytes (RGBA) (★☆☆)\n",
    "# Define the custom dtype\n",
    "color_dtype = np.dtype([('R', np.uint8), ('G', np.uint8), ('B', np.uint8), ('A', np.uint8)])\n",
    "# Create a color array using the custom dtype\n",
    "color_array = np.array([(255, 0, 0, 255), (0, 255, 0, 255), (0, 0, 255, 255)], dtype=color_dtype)\n",
    "print(color_array)"
   ]
  },
  {
   "cell_type": "code",
   "execution_count": 249,
   "metadata": {},
   "outputs": [
    {
     "name": "stdout",
     "output_type": "stream",
     "text": [
      "Matrix 1:\n",
      "[[0.68624994 0.31811074 0.17680167]\n",
      " [0.10240035 0.73731527 0.450441  ]\n",
      " [0.32352991 0.85665302 0.59361322]\n",
      " [0.51800234 0.74337916 0.81558314]\n",
      " [0.68607316 0.44000632 0.37929879]]\n",
      "\n",
      "Matrix 2:\n",
      "[[0.77166494 0.51790716]\n",
      " [0.70438608 0.89039879]\n",
      " [0.91589063 0.27771564]]\n",
      "\n",
      "Matrix Product:\n",
      "[[0.91555878 0.68775976]\n",
      " [1.01092806 0.83463301]\n",
      " [1.39675594 1.09517694]\n",
      " [1.67033514 1.15668122]\n",
      " [1.18674914 0.8524405 ]]\n"
     ]
    }
   ],
   "source": [
    "#### 24. Multiply a 5x3 matrix by a 3x2 matrix (real matrix product) (★☆☆)\n",
    "matrix1 = np.random.random((5, 3))\n",
    "matrix2 = np.random.random((3, 2))\n",
    "\n",
    "product = np.dot(matrix1, matrix2)\n",
    "\n",
    "print(\"Matrix 1:\")\n",
    "print(matrix1)\n",
    "\n",
    "print(\"\\nMatrix 2:\")\n",
    "print(matrix2)\n",
    "\n",
    "print(\"\\nMatrix Product:\")\n",
    "print(product)"
   ]
  },
  {
   "cell_type": "code",
   "execution_count": 250,
   "metadata": {},
   "outputs": [
    {
     "name": "stdout",
     "output_type": "stream",
     "text": [
      "[ 1 -5 -4  9 -7  2 -6 -3 -8]\n"
     ]
    }
   ],
   "source": [
    "#### 25. Given a 1D array, negate all elements which are between 3 and 8, in place. (★☆☆)\n",
    "\n",
    "arr = np.array([1, 5, 4, 9, 7, 2, 6, 3, 8])\n",
    "\n",
    "# Find the indices of elements between 3 and 8\n",
    "indices = np.where((arr >= 3) & (arr <= 8))\n",
    "\n",
    "# Negate the elements at the found indices\n",
    "arr[indices] = -arr[indices]\n",
    "\n",
    "print(arr)"
   ]
  },
  {
   "cell_type": "code",
   "execution_count": 251,
   "metadata": {},
   "outputs": [
    {
     "name": "stdout",
     "output_type": "stream",
     "text": [
      "10\n",
      "10\n"
     ]
    }
   ],
   "source": [
    "#### 26. What is the output of the following script? (★☆☆)\n",
    "print(sum(range(5),-1))\n",
    "from numpy import *\n",
    "print(sum(range(5),-1))"
   ]
  },
  {
   "cell_type": "code",
   "execution_count": 252,
   "metadata": {},
   "outputs": [
    {
     "data": {
      "text/plain": [
       "'Z**Z\\n2 << Z >> 2\\nZ <- Z\\n1j*Z\\nZ/1/1\\nZ<Z>Z '"
      ]
     },
     "execution_count": 252,
     "metadata": {},
     "output_type": "execute_result"
    }
   ],
   "source": [
    "#### 27. Consider an integer vector Z, which of these expressions are legal? (★☆☆)\n",
    "\"\"\"Z**Z\n",
    "2 << Z >> 2\n",
    "Z <- Z\n",
    "1j*Z\n",
    "Z/1/1\n",
    "Z<Z>Z \"\"\""
   ]
  },
  {
   "cell_type": "code",
   "execution_count": 253,
   "metadata": {},
   "outputs": [
    {
     "name": "stderr",
     "output_type": "stream",
     "text": [
      "/tmp/ipykernel_886/2409017176.py:2: RuntimeWarning: invalid value encountered in divide\n",
      "  np.array(0) / np.array(0)\n",
      "/tmp/ipykernel_886/2409017176.py:3: RuntimeWarning: divide by zero encountered in floor_divide\n",
      "  np.array(0) // np.array(0)\n",
      "/tmp/ipykernel_886/2409017176.py:4: RuntimeWarning: invalid value encountered in cast\n",
      "  np.array([np.nan]).astype(int).astype(float)\n"
     ]
    },
    {
     "data": {
      "text/plain": [
       "array([-9.22337204e+18])"
      ]
     },
     "execution_count": 253,
     "metadata": {},
     "output_type": "execute_result"
    }
   ],
   "source": [
    "#### 28. What are the result of the following expressions? (★☆☆)\n",
    "np.array(0) / np.array(0)\n",
    "np.array(0) // np.array(0)\n",
    "np.array([np.nan]).astype(int).astype(float)"
   ]
  },
  {
   "cell_type": "code",
   "execution_count": 254,
   "metadata": {},
   "outputs": [
    {
     "name": "stdout",
     "output_type": "stream",
     "text": [
      "[-2.  3. -5.  6. -1.]\n"
     ]
    }
   ],
   "source": [
    "#### 29. How to round away from zero a float array ? (★☆☆)\n",
    "\n",
    "arr = np.array([-1.5, 2.3, -4.7, 5.9, -0.1])\n",
    "\n",
    "rounded_arr = np.ceil(np.abs(arr)) * np.copysign(1, arr)\n",
    "\n",
    "print(rounded_arr)"
   ]
  },
  {
   "cell_type": "code",
   "execution_count": 255,
   "metadata": {},
   "outputs": [
    {
     "name": "stdout",
     "output_type": "stream",
     "text": [
      "[4 5]\n"
     ]
    }
   ],
   "source": [
    "#### 30. How to find common values between two arrays? (★☆☆)\n",
    "\n",
    "array1 = np.array([1, 2, 3, 4, 5])\n",
    "array2 = np.array([4, 5, 6, 7, 8])\n",
    "\n",
    "common_values = np.intersect1d(array1, array2)\n",
    "\n",
    "print(common_values)\n"
   ]
  },
  {
   "cell_type": "code",
   "execution_count": 256,
   "metadata": {},
   "outputs": [],
   "source": [
    "#### 31. How to ignore all numpy warnings (not recommended)? (★☆☆)\n",
    "\n",
    "import numpy as np\n",
    "import warnings\n",
    "\n",
    "# Ignore all NumPy warnings\n",
    "warnings.filterwarnings('ignore', category=FutureWarning)\n",
    "\n",
    "# Reset warnings to default behavior\n",
    "warnings.resetwarnings()"
   ]
  },
  {
   "cell_type": "code",
   "execution_count": 257,
   "metadata": {},
   "outputs": [
    {
     "name": "stderr",
     "output_type": "stream",
     "text": [
      "/tmp/ipykernel_886/306841201.py:2: RuntimeWarning: invalid value encountered in sqrt\n",
      "  np.sqrt(-1) == np.emath.sqrt(-1)\n"
     ]
    },
    {
     "data": {
      "text/plain": [
       "False"
      ]
     },
     "execution_count": 257,
     "metadata": {},
     "output_type": "execute_result"
    }
   ],
   "source": [
    "#### 32. Is the following expressions true? (★☆☆)\n",
    "np.sqrt(-1) == np.emath.sqrt(-1)"
   ]
  },
  {
   "cell_type": "code",
   "execution_count": 258,
   "metadata": {},
   "outputs": [
    {
     "name": "stdout",
     "output_type": "stream",
     "text": [
      "Yesterday: 2024-02-07\n",
      "Today: 2024-02-08\n",
      "Tomorrow: 2024-02-09\n"
     ]
    }
   ],
   "source": [
    "#### 33. How to get the dates of yesterday, today and tomorrow? (★☆☆)\n",
    "from datetime import datetime, timedelta\n",
    "\n",
    "# Get today's date\n",
    "today = datetime.now().date()\n",
    "\n",
    "# Get yesterday's date\n",
    "yesterday = today - timedelta(days=1)\n",
    "\n",
    "# Get tomorrow's date\n",
    "tomorrow = today + timedelta(days=1)\n",
    "\n",
    "# Print the dates\n",
    "print(\"Yesterday:\", yesterday)\n",
    "print(\"Today:\", today)\n",
    "print(\"Tomorrow:\", tomorrow)\n"
   ]
  },
  {
   "cell_type": "code",
   "execution_count": 259,
   "metadata": {},
   "outputs": [
    {
     "name": "stdout",
     "output_type": "stream",
     "text": [
      "2016-07-01\n",
      "2016-07-02\n",
      "2016-07-03\n",
      "2016-07-04\n",
      "2016-07-05\n",
      "2016-07-06\n",
      "2016-07-07\n",
      "2016-07-08\n",
      "2016-07-09\n",
      "2016-07-10\n",
      "2016-07-11\n",
      "2016-07-12\n",
      "2016-07-13\n",
      "2016-07-14\n",
      "2016-07-15\n",
      "2016-07-16\n",
      "2016-07-17\n",
      "2016-07-18\n",
      "2016-07-19\n",
      "2016-07-20\n",
      "2016-07-21\n",
      "2016-07-22\n",
      "2016-07-23\n",
      "2016-07-24\n",
      "2016-07-25\n",
      "2016-07-26\n",
      "2016-07-27\n",
      "2016-07-28\n",
      "2016-07-29\n",
      "2016-07-30\n",
      "2016-07-31\n"
     ]
    }
   ],
   "source": [
    "#### 34. How to get all the dates corresponding to the month of July 2016? (★★☆)\n",
    "from datetime import datetime, timedelta\n",
    "\n",
    "def get_dates_in_month(year, month):\n",
    "    start_date = datetime(year, month, 1).date()\n",
    "    next_month = start_date.replace(day=28) + timedelta(days=4)  # Add 4 days to go beyond end of month\n",
    "    end_date = next_month - timedelta(days=next_month.day)\n",
    "\n",
    "    dates_in_month = []\n",
    "    current_date = start_date\n",
    "    while current_date <= end_date:\n",
    "        dates_in_month.append(current_date)\n",
    "        current_date += timedelta(days=1)\n",
    "\n",
    "    return dates_in_month\n",
    "\n",
    "# Get all the dates in July 2016\n",
    "dates_july_2016 = get_dates_in_month(2016, 7)\n",
    "\n",
    "# Print the dates\n",
    "for date in dates_july_2016:\n",
    "    print(date)\n"
   ]
  },
  {
   "cell_type": "code",
   "execution_count": 260,
   "metadata": {},
   "outputs": [
    {
     "name": "stdout",
     "output_type": "stream",
     "text": [
      "[-2.5 -3.5 -4.5]\n"
     ]
    }
   ],
   "source": [
    "#### 35. How to compute ((A+B)*(-A/2)) in place (without copy)? (★★☆)\n",
    "\n",
    "\n",
    "A = np.array([1, 2, 3], dtype=float)\n",
    "B = np.array([4, 5, 6])\n",
    "\n",
    "# Compute ((A+B)*(-A/2)) in place\n",
    "np.add(A, B, out=A)\n",
    "np.negative(A, out=A)\n",
    "np.divide(A, 2, out=A)\n",
    "\n",
    "# Print the result\n",
    "print(A)"
   ]
  },
  {
   "cell_type": "code",
   "execution_count": 261,
   "metadata": {},
   "outputs": [
    {
     "name": "stdout",
     "output_type": "stream",
     "text": [
      "Method 1 (np.floor()): [1. 2. 7. 3. 1.]\n",
      "Method 2 (np.trunc()): [1. 2. 7. 3. 1.]\n",
      "Method 3 (np.ceil() and subtraction): [1. 2. 7. 3. 1.]\n",
      "Method 4 (np.astype()): [1 2 7 3 1]\n"
     ]
    }
   ],
   "source": [
    "#### 36. Extract the integer part of a random array of positive numbers using 4 different methods (★★☆)\n",
    "# Generate a random array of positive numbers\n",
    "arr = np.random.rand(5) * 10  # Adjust the size of the array as needed\n",
    "\n",
    "# Method 1: Using np.floor()\n",
    "int_part_1 = np.floor(arr)\n",
    "print(\"Method 1 (np.floor()):\", int_part_1)\n",
    "\n",
    "# Method 2: Using np.trunc()\n",
    "int_part_2 = np.trunc(arr)\n",
    "print(\"Method 2 (np.trunc()):\", int_part_2)\n",
    "\n",
    "# Method 3: Using np.ceil() and subtraction\n",
    "int_part_3 = arr - (arr % 1)\n",
    "print(\"Method 3 (np.ceil() and subtraction):\", int_part_3)\n",
    "\n",
    "# Method 4: Using np.astype()\n",
    "int_part_4 = arr.astype(int)\n",
    "print(\"Method 4 (np.astype()):\", int_part_4)\n"
   ]
  },
  {
   "cell_type": "code",
   "execution_count": 262,
   "metadata": {},
   "outputs": [
    {
     "name": "stdout",
     "output_type": "stream",
     "text": [
      "[[0 1 2 3 4]\n",
      " [0 1 2 3 4]\n",
      " [0 1 2 3 4]\n",
      " [0 1 2 3 4]\n",
      " [0 1 2 3 4]]\n"
     ]
    }
   ],
   "source": [
    "#### 37. Create a 5x5 matrix with row values ranging from 0 to 4 (★★☆)\n",
    "\n",
    "# Create a 1-dimensional array ranging from 0 to 4\n",
    "row_values = np.arange(5)\n",
    "\n",
    "# Create a 5x5 matrix by broadcasting the row values\n",
    "matrix = np.tile(row_values, (5, 1))\n",
    "\n",
    "# Print the matrix\n",
    "print(matrix)"
   ]
  },
  {
   "cell_type": "code",
   "execution_count": 263,
   "metadata": {},
   "outputs": [
    {
     "name": "stdout",
     "output_type": "stream",
     "text": [
      "[0 1 2 3 4 5 6 7 8 9]\n"
     ]
    }
   ],
   "source": [
    "#### 38. Consider a generator function that generates 10 integers and use it to build an array (★☆☆)\n",
    "def integer_generator():\n",
    "    for i in range(10):\n",
    "        yield i\n",
    "\n",
    "# Create an array using the generator function\n",
    "array = np.fromiter(integer_generator(), dtype=int)\n",
    "\n",
    "# Print the array\n",
    "print(array)"
   ]
  },
  {
   "cell_type": "code",
   "execution_count": 264,
   "metadata": {},
   "outputs": [
    {
     "name": "stdout",
     "output_type": "stream",
     "text": [
      "[0.1 0.2 0.3 0.4 0.5 0.6 0.7 0.8 0.9]\n"
     ]
    }
   ],
   "source": [
    "#### 39. Create a vector of size 10 with values ranging from 0 to 1, both excluded (★★☆)\n",
    "vector = np.linspace(0, 1, 10, endpoint=False)[1:]\n",
    "\n",
    "# Print the vector\n",
    "print(vector)"
   ]
  },
  {
   "cell_type": "code",
   "execution_count": 265,
   "metadata": {},
   "outputs": [
    {
     "name": "stdout",
     "output_type": "stream",
     "text": [
      "[0.0197321  0.09838549 0.11755326 0.13613644 0.15637361 0.32731319\n",
      " 0.32924348 0.68388397 0.84436549 0.84491409]\n"
     ]
    }
   ],
   "source": [
    "#### 40. Create a random vector of size 10 and sort it (★★☆)\n",
    "\n",
    "# Create a random vector of size 10\n",
    "vector = np.random.rand(10)\n",
    "\n",
    "# Sort the vector\n",
    "sorted_vector = np.sort(vector)\n",
    "\n",
    "# Print the sorted vector\n",
    "print(sorted_vector)\n"
   ]
  },
  {
   "cell_type": "code",
   "execution_count": 266,
   "metadata": {},
   "outputs": [],
   "source": [
    "#### 41. How to sum a small array faster than np.sum? (★★☆)\n",
    "import math\n",
    "arr = [1, 2, 3, 4, 5]\n",
    "total = sum(arr)\n",
    "\n",
    "\n",
    "arr = [1.1, 2.2, 3.3, 4.4, 5.5]\n",
    "total = math.fsum(arr)\n"
   ]
  },
  {
   "cell_type": "code",
   "execution_count": 267,
   "metadata": {},
   "outputs": [
    {
     "name": "stdout",
     "output_type": "stream",
     "text": [
      "False\n"
     ]
    }
   ],
   "source": [
    "#### 42. Consider two random array A and B, check if they are equal (★★☆)\n",
    "# Generate two random arrays A and B\n",
    "A = np.random.rand(5)\n",
    "B = np.random.rand(5)\n",
    "\n",
    "# Check if A and B are equal\n",
    "are_equal = np.array_equal(A, B)\n",
    "\n",
    "# Print the result\n",
    "print(are_equal)"
   ]
  },
  {
   "cell_type": "code",
   "execution_count": 268,
   "metadata": {},
   "outputs": [
    {
     "data": {
      "text/plain": [
       "'\\n#### 43. Make an array immutable (read-only) (★★☆)\\nmutable_array = np.array([1, 2, 3, 4, 5])\\n\\n# Make the array immutable\\nimmutable_array = mutable_array.copy()\\nimmutable_array.flags.writeable = False\\n\\n# Try to modify the immutable array (raises an error)\\nimmutable_array[0] = 10\\n'"
      ]
     },
     "execution_count": 268,
     "metadata": {},
     "output_type": "execute_result"
    }
   ],
   "source": [
    "\"\"\"\n",
    "#### 43. Make an array immutable (read-only) (★★☆)\n",
    "mutable_array = np.array([1, 2, 3, 4, 5])\n",
    "\n",
    "# Make the array immutable\n",
    "immutable_array = mutable_array.copy()\n",
    "immutable_array.flags.writeable = False\n",
    "\n",
    "# Try to modify the immutable array (raises an error)\n",
    "immutable_array[0] = 10\n",
    "\"\"\""
   ]
  },
  {
   "cell_type": "code",
   "execution_count": 269,
   "metadata": {},
   "outputs": [
    {
     "name": "stdout",
     "output_type": "stream",
     "text": [
      "[[0.74898321 0.97201325]\n",
      " [0.5074786  0.50630008]\n",
      " [1.10628395 0.90974765]\n",
      " [0.92044515 1.1537105 ]\n",
      " [0.5889841  0.74967879]\n",
      " [0.6958556  1.53008072]\n",
      " [1.04516416 0.68785703]\n",
      " [0.18324759 0.5988374 ]\n",
      " [0.69955875 0.61132922]\n",
      " [1.05866058 1.15346595]]\n"
     ]
    }
   ],
   "source": [
    "#### 44. Consider a random 10x2 matrix representing cartesian coordinates, convert them to polar coordinates (★★☆)\n",
    "\n",
    "# Create a random 10x2 matrix representing Cartesian coordinates\n",
    "cartesian_coords = np.random.rand(10, 2)\n",
    "\n",
    "# Convert Cartesian coordinates to polar coordinates\n",
    "x = cartesian_coords[:, 0]\n",
    "y = cartesian_coords[:, 1]\n",
    "r = np.hypot(x, y)\n",
    "theta = np.arctan2(y, x)\n",
    "\n",
    "# Stack r and theta to form a 10x2 matrix representing polar coordinates\n",
    "polar_coords = np.column_stack((r, theta))\n",
    "\n",
    "# Print the polar coordinates\n",
    "print(polar_coords)"
   ]
  },
  {
   "cell_type": "code",
   "execution_count": 270,
   "metadata": {},
   "outputs": [
    {
     "name": "stdout",
     "output_type": "stream",
     "text": [
      "[0.72392267 0.41178774 0.01909928 0.0340957  0.6848037  0.83773876\n",
      " 0.70770263 0.40588775 0.03113574 0.        ]\n"
     ]
    }
   ],
   "source": [
    "#### 45. Create random vector of size 10 and replace the maximum value by 0 (★★☆)\n",
    "# Create a random vector of size 10\n",
    "vector = np.random.rand(10)\n",
    "\n",
    "# Find the maximum value in the vector\n",
    "max_value = np.max(vector)\n",
    "\n",
    "# Replace the maximum value with 0\n",
    "vector[vector == max_value] = 0\n",
    "\n",
    "# Print the updated vector\n",
    "print(vector)"
   ]
  },
  {
   "cell_type": "code",
   "execution_count": 271,
   "metadata": {},
   "outputs": [
    {
     "name": "stdout",
     "output_type": "stream",
     "text": [
      "[(0.  , 0.  ) (0.25, 0.  ) (0.5 , 0.  ) (0.75, 0.  ) (1.  , 0.  )\n",
      " (0.  , 0.25) (0.25, 0.25) (0.5 , 0.25) (0.75, 0.25) (1.  , 0.25)\n",
      " (0.  , 0.5 ) (0.25, 0.5 ) (0.5 , 0.5 ) (0.75, 0.5 ) (1.  , 0.5 )\n",
      " (0.  , 0.75) (0.25, 0.75) (0.5 , 0.75) (0.75, 0.75) (1.  , 0.75)\n",
      " (0.  , 1.  ) (0.25, 1.  ) (0.5 , 1.  ) (0.75, 1.  ) (1.  , 1.  )]\n"
     ]
    }
   ],
   "source": [
    "#### 46. Create a structured array with `x` and `y` coordinates covering the [0,1]x[0,1] area (★★☆)\n",
    "# Define the number of points in each dimension\n",
    "num_points = 5\n",
    "\n",
    "# Create a grid of x and y coordinates\n",
    "x_coords = np.linspace(0, 1, num_points)\n",
    "y_coords = np.linspace(0, 1, num_points)\n",
    "xx, yy = np.meshgrid(x_coords, y_coords)\n",
    "\n",
    "# Create a structured array\n",
    "structured_array = np.zeros((num_points*num_points,), dtype=[('x', float), ('y', float)])\n",
    "structured_array['x'] = xx.flatten()\n",
    "structured_array['y'] = yy.flatten()\n",
    "\n",
    "# Print the structured array\n",
    "print(structured_array)\n"
   ]
  },
  {
   "cell_type": "code",
   "execution_count": 272,
   "metadata": {},
   "outputs": [
    {
     "name": "stdout",
     "output_type": "stream",
     "text": [
      "[[-0.33333333 -0.25       -0.2       ]\n",
      " [-0.5        -0.33333333 -0.25      ]\n",
      " [-1.         -0.5        -0.33333333]]\n"
     ]
    }
   ],
   "source": [
    "#### 47. Given two arrays, X and Y, construct the Cauchy matrix C (Cij =1/(xi - yj)) (★★☆)\n",
    "\n",
    "# Example arrays X and Y\n",
    "X = np.array([1, 2, 3])\n",
    "Y = np.array([4, 5, 6])\n",
    "\n",
    "# Compute the Cauchy matrix\n",
    "C = 1 / (X[:, np.newaxis] - Y)\n",
    "\n",
    "# Print the Cauchy matrix\n",
    "print(C)"
   ]
  },
  {
   "cell_type": "code",
   "execution_count": 273,
   "metadata": {},
   "outputs": [
    {
     "name": "stdout",
     "output_type": "stream",
     "text": [
      "int8: min=-128, max=127\n",
      "int16: min=-32768, max=32767\n",
      "int32: min=-2147483648, max=2147483647\n",
      "int64: min=-9223372036854775808, max=9223372036854775807\n",
      "uint8: min=0, max=255\n",
      "uint16: min=0, max=65535\n",
      "uint32: min=0, max=4294967295\n",
      "uint64: min=0, max=18446744073709551615\n",
      "float16: min=-65504.0, max=65504.0\n",
      "float32: min=-3.4028234663852886e+38, max=3.4028234663852886e+38\n",
      "float64: min=-1.7976931348623157e+308, max=1.7976931348623157e+308\n"
     ]
    }
   ],
   "source": [
    "#### 48. Print the minimum and maximum representable value for each numpy scalar type (★★☆)\n",
    "# Integer scalar types\n",
    "integer_types = [np.int8, np.int16, np.int32, np.int64,\n",
    "                 np.uint8, np.uint16, np.uint32, np.uint64]\n",
    "\n",
    "for int_type in integer_types:\n",
    "    info = np.iinfo(int_type)\n",
    "    print(f\"{int_type.__name__}: min={info.min}, max={info.max}\")\n",
    "\n",
    "# Floating-point scalar types\n",
    "float_types = [np.float16, np.float32, np.float64]\n",
    "\n",
    "for float_type in float_types:\n",
    "    info = np.finfo(float_type)\n",
    "    print(f\"{float_type.__name__}: min={info.min}, max={info.max}\")"
   ]
  },
  {
   "cell_type": "code",
   "execution_count": 274,
   "metadata": {},
   "outputs": [
    {
     "name": "stdout",
     "output_type": "stream",
     "text": [
      "[1 2 3 4 5]\n"
     ]
    }
   ],
   "source": [
    "#### 49. How to print all the values of an array? (★★☆)\n",
    "\n",
    "# Create an example array\n",
    "arr = np.array([1, 2, 3, 4, 5])\n",
    "# Print all the values of the array\n",
    "print(arr)"
   ]
  },
  {
   "cell_type": "code",
   "execution_count": 275,
   "metadata": {},
   "outputs": [
    {
     "name": "stdout",
     "output_type": "stream",
     "text": [
      "7\n"
     ]
    }
   ],
   "source": [
    "#### 50. How to find the closest value (to a given scalar) in a vector? (★★☆)\n",
    "# Example vector\n",
    "vector = np.array([1, 4, 7, 10])\n",
    "\n",
    "# Target scalar\n",
    "target = 6\n",
    "\n",
    "# Find the index of the closest value\n",
    "index = np.abs(vector - target).argmin()\n",
    "\n",
    "# Get the closest value\n",
    "closest_value = vector[index]\n",
    "\n",
    "# Print the closest value\n",
    "print(closest_value)"
   ]
  },
  {
   "cell_type": "code",
   "execution_count": 276,
   "metadata": {},
   "outputs": [
    {
     "name": "stdout",
     "output_type": "stream",
     "text": [
      "[((1., 2.), (255,   0,   0)) ((3., 4.), (  0, 255,   0))\n",
      " ((5., 6.), (  0,   0, 255))]\n"
     ]
    }
   ],
   "source": [
    "#### 51. Create a structured array representing a position (x,y) and a color (r,g,b) (★★☆)\n",
    "\n",
    "# Define the structured data type\n",
    "dtype = np.dtype([('position', [('x', float), ('y', float)]),\n",
    "                  ('color', [('r', int), ('g', int), ('b', int)])])\n",
    "\n",
    "# Create a structured array\n",
    "structured_array = np.array([((1.0, 2.0), (255, 0, 0)),\n",
    "                             ((3.0, 4.0), (0, 255, 0)),\n",
    "                             ((5.0, 6.0), (0, 0, 255))], dtype=dtype)\n",
    "\n",
    "# Print the structured array\n",
    "print(structured_array)\n"
   ]
  },
  {
   "cell_type": "code",
   "execution_count": 277,
   "metadata": {},
   "outputs": [
    {
     "name": "stdout",
     "output_type": "stream",
     "text": [
      "[[0.         0.91570355 0.16092664 ... 0.84948336 1.02156046 0.38782508]\n",
      " [0.91570355 0.         0.83334393 ... 0.3080536  0.42478171 0.86546742]\n",
      " [0.16092664 0.83334393 0.         ... 0.8210439  0.88622604 0.23666038]\n",
      " ...\n",
      " [0.84948336 0.3080536  0.8210439  ... 0.         0.72173154 0.93321519]\n",
      " [1.02156046 0.42478171 0.88622604 ... 0.72173154 0.         0.80038581]\n",
      " [0.38782508 0.86546742 0.23666038 ... 0.93321519 0.80038581 0.        ]]\n"
     ]
    }
   ],
   "source": [
    "#### 52. Consider a random vector with shape (100,2) representing coordinates, find point by point distances\n",
    "import numpy as np\n",
    "\n",
    "# Generate random vector with shape (100, 2)\n",
    "random_vector = np.random.rand(100, 2)\n",
    "\n",
    "# Calculate point-by-point distances\n",
    "distances = np.zeros((100, 100))  # Initialize an empty distance matrix\n",
    "\n",
    "for i in range(100):\n",
    "    for j in range(100):\n",
    "        x1, y1 = random_vector[i]  # Coordinates of point i\n",
    "        x2, y2 = random_vector[j]  # Coordinates of point j\n",
    "        distances[i, j] = np.sqrt((x2 - x1)**2 + (y2 - y1)**2)\n",
    "\n",
    "print(distances)"
   ]
  },
  {
   "cell_type": "code",
   "execution_count": 278,
   "metadata": {},
   "outputs": [
    {
     "name": "stdout",
     "output_type": "stream",
     "text": [
      "Float array: [1.5 2.7 3.3]\n",
      "Integer array: [1069547520 1076677837 1079194419]\n"
     ]
    }
   ],
   "source": [
    "#### 53. How to convert a float (32 bits) array into an integer (32 bits) in place?\n",
    "# Create a float array with 32-bit precision\n",
    "float_array = np.array([1.5, 2.7, 3.3], dtype=np.float32)\n",
    "print(\"Float array:\", float_array)\n",
    "\n",
    "# Convert the float array to an integer array in place\n",
    "int_array = float_array.view(np.int32)\n",
    "print(\"Integer array:\", int_array)"
   ]
  },
  {
   "cell_type": "code",
   "execution_count": 279,
   "metadata": {},
   "outputs": [
    {
     "data": {
      "text/plain": [
       "\" #### 54. How to read the following file? (★★☆)\\n1, 2, 3, 4, 5\\n6,  ,  , 7, 8\\n ,  , 9,10,11\\n    _summary_\\n    \\ndata = []\\n\\nwith open(filename, 'r') as file:\\n    csv_reader = csv.reader(file, delimiter=',')\\n    for row in csv_reader:\\n        stripped_row = [cell.strip() for cell in row]\\n        data.append(stripped_row)\\n\\nprint(data)\\n\\n\""
      ]
     },
     "execution_count": 279,
     "metadata": {},
     "output_type": "execute_result"
    }
   ],
   "source": [
    "\"\"\" #### 54. How to read the following file? (★★☆)\n",
    "1, 2, 3, 4, 5\n",
    "6,  ,  , 7, 8\n",
    " ,  , 9,10,11\n",
    "    _summary_\n",
    "    \n",
    "data = []\n",
    "\n",
    "with open(filename, 'r') as file:\n",
    "    csv_reader = csv.reader(file, delimiter=',')\n",
    "    for row in csv_reader:\n",
    "        stripped_row = [cell.strip() for cell in row]\n",
    "        data.append(stripped_row)\n",
    "\n",
    "print(data)\n",
    "\n",
    "\"\"\""
   ]
  },
  {
   "cell_type": "code",
   "execution_count": 280,
   "metadata": {},
   "outputs": [
    {
     "name": "stdout",
     "output_type": "stream",
     "text": [
      "(0, 0) 1\n",
      "(0, 1) 2\n",
      "(0, 2) 3\n",
      "(1, 0) 4\n",
      "(1, 1) 5\n",
      "(1, 2) 6\n"
     ]
    }
   ],
   "source": [
    "#### 55. What is the equivalent of enumerate for numpy arrays? (★★☆)\n",
    "## The equivalent of enumerate for NumPy arrays is the np.ndenumerate function.\n",
    "arr = np.array([[1, 2, 3], [4, 5, 6]])\n",
    "\n",
    "for index, value in np.ndenumerate(arr):\n",
    "    print(index, value)"
   ]
  },
  {
   "cell_type": "code",
   "execution_count": 281,
   "metadata": {},
   "outputs": [],
   "source": [
    "#### 56. Generate a generic 2D Gaussian-like array (★★☆)\n",
    "from scipy.stats import multivariate_normal\n",
    "\n",
    "# Define parameters for the Gaussian distribution\n",
    "mean = [0, 0]  # Mean of the distribution\n",
    "cov = [[1, 0], [0, 1]]  # Covariance matrix\n",
    "\n",
    "# Generate a 2D grid of coordinates\n",
    "x = np.linspace(-3, 3, 100)\n",
    "y = np.linspace(-3, 3, 100)\n",
    "X, Y = np.meshgrid(x, y)\n",
    "pos = np.dstack((X, Y))\n",
    "\n",
    "# Calculate the Gaussian distribution values at each coordinate\n",
    "Z = multivariate_normal.pdf(pos, mean, cov)\n"
   ]
  },
  {
   "cell_type": "code",
   "execution_count": 282,
   "metadata": {},
   "outputs": [
    {
     "name": "stdout",
     "output_type": "stream",
     "text": [
      "[[0. 0. 0. 0. 0.]\n",
      " [1. 0. 0. 0. 1.]\n",
      " [0. 0. 0. 1. 1.]\n",
      " [0. 0. 1. 0. 0.]\n",
      " [0. 0. 0. 0. 0.]]\n"
     ]
    }
   ],
   "source": [
    "#### 57. How to randomly place p elements in a 2D array? (★★☆)\n",
    "# Define the size of the 2D array\n",
    "rows = 5\n",
    "cols = 5\n",
    "\n",
    "# Define the number of elements to randomly place\n",
    "p = 5\n",
    "\n",
    "# Create an empty 2D array\n",
    "arr = np.zeros((rows, cols))\n",
    "\n",
    "# Generate random indices for placing the elements\n",
    "indices = np.random.choice(rows * cols, p, replace=False)\n",
    "\n",
    "# Set the randomly chosen indices to 1\n",
    "arr.flat[indices] = 1\n",
    "\n",
    "# Print the resulting array\n",
    "print(arr)"
   ]
  },
  {
   "cell_type": "code",
   "execution_count": 283,
   "metadata": {},
   "outputs": [
    {
     "name": "stdout",
     "output_type": "stream",
     "text": [
      "[[-1.  0.  1.]\n",
      " [-1.  0.  1.]\n",
      " [-1.  0.  1.]]\n"
     ]
    }
   ],
   "source": [
    "#### 58. Subtract the mean of each row of a matrix (★★☆)\n",
    "# Create a matrix\n",
    "matrix = np.array([[1, 2, 3],\n",
    "                   [4, 5, 6],\n",
    "                   [7, 8, 9]])\n",
    "\n",
    "# Subtract the mean of each row\n",
    "mean_subtracted = matrix - np.mean(matrix, axis=1, keepdims=True)\n",
    "\n",
    "# Print the result\n",
    "print(mean_subtracted)"
   ]
  },
  {
   "cell_type": "code",
   "execution_count": 284,
   "metadata": {},
   "outputs": [
    {
     "name": "stdout",
     "output_type": "stream",
     "text": [
      "[[1 4 7]\n",
      " [2 5 8]\n",
      " [3 6 9]]\n"
     ]
    }
   ],
   "source": [
    "#### 59. How to sort an array by the nth column? (★★☆)\n",
    "\n",
    "# Create an array\n",
    "arr = np.array([[1, 4, 7],\n",
    "                [2, 5, 8],\n",
    "                [3, 6, 9]])\n",
    "\n",
    "# Sort the array by the nth column (0-based indexing)\n",
    "n = 1\n",
    "sorted_arr = arr[arr[:, n].argsort()]\n",
    "\n",
    "# Print the sorted array\n",
    "print(sorted_arr)"
   ]
  },
  {
   "cell_type": "code",
   "execution_count": 285,
   "metadata": {},
   "outputs": [
    {
     "name": "stdout",
     "output_type": "stream",
     "text": [
      "[False False False]\n"
     ]
    }
   ],
   "source": [
    "#### 60. How to tell if a given 2D array has null columns? (★★☆)\n",
    "\n",
    "# Create a 2D array\n",
    "arr = np.array([[1, 2, 3],\n",
    "                [0, 0, 0],\n",
    "                [4, 5, 6],\n",
    "                [0, 0, 0]])\n",
    "\n",
    "# Check if any columns are null\n",
    "is_null_column = np.all(arr == 0, axis=0)\n",
    "\n",
    "# Print the result\n",
    "print(is_null_column)"
   ]
  },
  {
   "cell_type": "code",
   "execution_count": 286,
   "metadata": {},
   "outputs": [
    {
     "name": "stdout",
     "output_type": "stream",
     "text": [
      "7\n"
     ]
    }
   ],
   "source": [
    "#### 61. Find the nearest value from a given value in an array (★★☆)\n",
    "\n",
    "# Create an array\n",
    "arr = np.array([1, 3, 7, 9, 15])\n",
    "\n",
    "# Given value\n",
    "value = 8\n",
    "\n",
    "# Find the nearest value\n",
    "nearest_value = arr[np.abs(arr - value).argmin()]\n",
    "\n",
    "# Print the result\n",
    "print(nearest_value)"
   ]
  },
  {
   "cell_type": "code",
   "execution_count": 287,
   "metadata": {},
   "outputs": [
    {
     "name": "stdout",
     "output_type": "stream",
     "text": [
      "21\n"
     ]
    }
   ],
   "source": [
    "#### 62. Considering two arrays with shape (1,3) and (3,1), how to compute their sum using an iterator? (★★☆)\n",
    "\n",
    "# Create the arrays\n",
    "arr1 = np.array([[1, 2, 3]])\n",
    "arr2 = np.array([[4], [5], [6]])\n",
    "\n",
    "# Get the iterators\n",
    "iter1 = np.nditer(arr1)\n",
    "iter2 = np.nditer(arr2)\n",
    "\n",
    "# Compute the sum using the iterators\n",
    "sum_result = 0\n",
    "for x, y in zip(iter1, iter2):\n",
    "    sum_result += (x + y)\n",
    "\n",
    "# Print the result\n",
    "print(sum_result)"
   ]
  },
  {
   "cell_type": "code",
   "execution_count": 288,
   "metadata": {},
   "outputs": [
    {
     "name": "stdout",
     "output_type": "stream",
     "text": [
      "MyArray\n",
      "[1, 2, 3, 4, 5]\n"
     ]
    }
   ],
   "source": [
    "class NamedArray:\n",
    "    def __init__(self, name, array):\n",
    "        self.name = name\n",
    "        self.array = array\n",
    "\n",
    "    def __str__(self):\n",
    "        return f\"Name: {self.name}\\nArray: {self.array}\"\n",
    "\n",
    "# Create an instance of the NamedArray class\n",
    "arr = NamedArray(\"MyArray\", [1, 2, 3, 4, 5])\n",
    "\n",
    "# Access the name attribute\n",
    "print(arr.name)  # Output: MyArray\n",
    "\n",
    "# Access the array attribute\n",
    "print(arr.array)  # Output: [1, 2, 3, 4, 5]\n",
    "\n",
    "# Print the NamedArray instance"
   ]
  },
  {
   "cell_type": "code",
   "execution_count": 289,
   "metadata": {},
   "outputs": [
    {
     "name": "stdout",
     "output_type": "stream",
     "text": [
      "[2 4 3 5 6]\n"
     ]
    }
   ],
   "source": [
    "#### 64. Consider a given vector, how to add 1 to each element indexed by a second vector (be careful with repeated indices)? (★★★)\n",
    "# Given vector\n",
    "vector = np.array([1, 2, 3, 4, 5])\n",
    "\n",
    "# Index vector\n",
    "indices = np.array([0, 1, 3, 1, 4])\n",
    "\n",
    "# Create a copy of the vector\n",
    "result = vector.copy()\n",
    "\n",
    "# Add 1 to each element indexed by the second vector\n",
    "np.add.at(result, indices, 1)\n",
    "\n",
    "# Print the result\n",
    "print(result)"
   ]
  },
  {
   "cell_type": "code",
   "execution_count": 290,
   "metadata": {},
   "outputs": [
    {
     "name": "stdout",
     "output_type": "stream",
     "text": [
      "[1. 5. 9.]\n"
     ]
    }
   ],
   "source": [
    "#### 65. How to accumulate elements of a vector (X) to an array (F) based on an index list (I)? (★★★)\n",
    "\n",
    "\n",
    "\n",
    "# Define the vector X and index list I\n",
    "X = np.array([1, 2, 3, 4, 5])\n",
    "I = np.array([0, 1, 1, 2, 2])\n",
    "\n",
    "# Calculate the size of the output array F\n",
    "F_size = np.max(I) + 1\n",
    "\n",
    "# Initialize the output array F with zeros\n",
    "F = np.zeros(F_size)\n",
    "\n",
    "# Accumulate elements of X into F based on the indices in I\n",
    "np.add.at(F, I, X)\n",
    "\n",
    "print(F)"
   ]
  },
  {
   "cell_type": "code",
   "execution_count": 291,
   "metadata": {},
   "outputs": [
    {
     "name": "stdout",
     "output_type": "stream",
     "text": [
      "Number of unique colors: 10000\n"
     ]
    }
   ],
   "source": [
    "#### 66. Considering a (w,h,3) image of (dtype=ubyte), compute the number of unique colors (★★☆)\n",
    "\n",
    "\n",
    "# Generate a random image with dimensions (w, h, 3)\n",
    "w, h = 100, 100\n",
    "image = np.random.randint(0, 256, size=(w, h, 3), dtype=np.uint8)\n",
    "\n",
    "# Reshape the image to a 2D array with shape (w * h, 3)\n",
    "reshaped_image = image.reshape(-1, 3)\n",
    "\n",
    "# Compute the number of unique colors\n",
    "unique_colors = np.unique(reshaped_image, axis=0)\n",
    "\n",
    "# Get the number of unique colors\n",
    "num_unique_colors = len(unique_colors)\n",
    "\n",
    "print(\"Number of unique colors:\", num_unique_colors)"
   ]
  },
  {
   "cell_type": "code",
   "execution_count": 292,
   "metadata": {},
   "outputs": [
    {
     "name": "stdout",
     "output_type": "stream",
     "text": [
      "[[87 79 77]\n",
      " [99 70 90]]\n"
     ]
    }
   ],
   "source": [
    "#### 67. Considering a four dimensions array, how to get sum over the last two axis at once? (★★★)\n",
    "# Create a four-dimensional array\n",
    "array = np.random.randint(0, 10, size=(2, 3, 4, 5))\n",
    "\n",
    "# Compute the sum over the last two axes\n",
    "sum_last_two_axes = np.sum(array, axis=(-2, -1))\n",
    "\n",
    "# Print the result\n",
    "print(sum_last_two_axes)"
   ]
  },
  {
   "cell_type": "code",
   "execution_count": 293,
   "metadata": {},
   "outputs": [
    {
     "name": "stdout",
     "output_type": "stream",
     "text": [
      "[1.5 4.  8. ]\n"
     ]
    }
   ],
   "source": [
    "#### 68. Considering a one-dimensional vector D, how to compute means of subsets of D using a vector S of same size describing subset  indices? (★★★)\n",
    "\n",
    "# Create the one-dimensional vector D\n",
    "D = np.array([1, 2, 3, 4, 5, 6, 7, 8, 9, 10])\n",
    "\n",
    "# Create the subset indices vector S\n",
    "S = np.array([0, 0, 1, 1, 1, 2, 2, 2, 2, 2])\n",
    "\n",
    "# Compute the means of the subsets\n",
    "means = np.bincount(S, weights=D) / np.bincount(S)\n",
    "\n",
    "# Print the result\n",
    "print(means)"
   ]
  },
  {
   "cell_type": "code",
   "execution_count": 294,
   "metadata": {},
   "outputs": [
    {
     "name": "stdout",
     "output_type": "stream",
     "text": [
      "[1 5 9]\n"
     ]
    }
   ],
   "source": [
    "#### 69. How to get the diagonal of a dot product? (★★★)\n",
    "\n",
    "# Create two matrices A and B\n",
    "A = np.array([[1, 2, 3], [4, 5, 6], [7, 8, 9]])\n",
    "B = np.array([[1, 0, 0], [0, 1, 0], [0, 0, 1]])\n",
    "\n",
    "# Compute the dot product of A and B\n",
    "dot_product = np.einsum('ij, jk -> ik', A, B)\n",
    "\n",
    "# Get the diagonal elements of the dot product\n",
    "diagonal = np.diagonal(dot_product)\n",
    "\n",
    "# Print the result\n",
    "print(diagonal)"
   ]
  },
  {
   "cell_type": "code",
   "execution_count": 295,
   "metadata": {},
   "outputs": [
    {
     "name": "stdout",
     "output_type": "stream",
     "text": [
      "[1 0 0 0 2 0 0 0 3 0 0 0 4 0 0 0 5]\n"
     ]
    }
   ],
   "source": [
    "#### 70. Consider the vector [1, 2, 3, 4, 5], how to build a new vector with 3 consecutive zeros interleaved between each value? (★★★)\n",
    "\n",
    "\n",
    "# Create the original vector\n",
    "original_vector = np.array([1, 2, 3, 4, 5])\n",
    "\n",
    "# Number of consecutive zeros to insert\n",
    "zeros_count = 3\n",
    "\n",
    "# Compute the length of the new vector\n",
    "new_length = original_vector.size + (original_vector.size - 1) * zeros_count\n",
    "\n",
    "# Create an array of zeros with the appropriate length\n",
    "zeros = np.zeros(new_length, dtype=original_vector.dtype)\n",
    "\n",
    "# Insert the original values and zeros at the correct positions\n",
    "zeros[::zeros_count + 1] = original_vector\n",
    "\n",
    "# Print the result\n",
    "print(zeros)"
   ]
  },
  {
   "cell_type": "code",
   "execution_count": 296,
   "metadata": {},
   "outputs": [
    {
     "name": "stdout",
     "output_type": "stream",
     "text": [
      "[[[0.37120232 0.33623959 0.1562463 ]\n",
      "  [0.74392935 0.32430094 0.01825979]\n",
      "  [0.33732599 0.11887065 0.11297252]\n",
      "  [0.25551436 0.0484423  0.62487693]\n",
      "  [0.00421388 0.01157792 0.00529091]]\n",
      "\n",
      " [[0.01299387 0.05507767 0.11764207]\n",
      "  [0.46006378 0.41755772 0.41773764]\n",
      "  [0.07598248 0.11432184 0.03296786]\n",
      "  [0.49891387 0.04474469 0.35678162]\n",
      "  [0.2341703  0.22998529 0.93594693]]\n",
      "\n",
      " [[0.08506562 0.09407593 0.06429355]\n",
      "  [0.39357535 0.29167049 0.42753679]\n",
      "  [0.05413265 0.11454605 0.13278889]\n",
      "  [0.35132823 0.78655359 0.87604945]\n",
      "  [0.47628027 0.37680424 0.45522197]]\n",
      "\n",
      " [[0.40820651 0.30898682 0.02143261]\n",
      "  [0.05639125 0.00179939 0.0809757 ]\n",
      "  [0.25782188 0.37066496 0.62719766]\n",
      "  [0.03238139 0.11052586 0.27743463]\n",
      "  [0.08154775 0.11984378 0.35402346]]\n",
      "\n",
      " [[0.73247894 0.78438108 0.83154929]\n",
      "  [0.3326961  0.28989717 0.22840564]\n",
      "  [0.46308391 0.37909062 0.13174945]\n",
      "  [0.21327593 0.28666099 0.29878357]\n",
      "  [0.2644085  0.11322356 0.27029817]]]\n"
     ]
    }
   ],
   "source": [
    "#### 71. Consider an array of dimension (5,5,3), how to mulitply it by an array with dimensions (5,5)? (★★★)\n",
    "# Create a three-dimensional array A with dimensions (5, 5, 3)\n",
    "A = np.random.random((5, 5, 3))\n",
    "\n",
    "# Create a two-dimensional array B with dimensions (5, 5)\n",
    "B = np.random.random((5, 5))\n",
    "\n",
    "# Multiply array A by array B\n",
    "result = A * B[:, :, np.newaxis]\n",
    "\n",
    "# Print the result\n",
    "print(result)"
   ]
  },
  {
   "cell_type": "code",
   "execution_count": 297,
   "metadata": {},
   "outputs": [
    {
     "name": "stdout",
     "output_type": "stream",
     "text": [
      "[[1 2 3]\n",
      " [7 8 9]\n",
      " [7 8 9]]\n"
     ]
    }
   ],
   "source": [
    "#### 72. How to swap two rows of an array? (★★★)\n",
    "\n",
    "# Create a 2D array\n",
    "array = np.array([[1, 2, 3],\n",
    "                  [4, 5, 6],\n",
    "                  [7, 8, 9]])\n",
    "\n",
    "# Swap rows 1 and 2\n",
    "array[1], array[2] = array[2], array[1]\n",
    "\n",
    "# Print the result\n",
    "print(array)"
   ]
  },
  {
   "cell_type": "code",
   "execution_count": 298,
   "metadata": {},
   "outputs": [
    {
     "name": "stdout",
     "output_type": "stream",
     "text": [
      "[[ 1  2]\n",
      " [ 2  3]\n",
      " [ 3  4]\n",
      " [ 4  5]\n",
      " [ 5  6]\n",
      " [ 6  7]\n",
      " [ 7  8]\n",
      " [ 8  9]\n",
      " [ 9 10]\n",
      " [10 11]\n",
      " [11 12]]\n"
     ]
    }
   ],
   "source": [
    "#### 73. Consider a set of 10 triplets describing 10 triangles (with shared vertices), find the set of unique line segments composing all the  triangles (★★★)\n",
    "\n",
    "# Set of 10 triplets describing triangles\n",
    "triplets = np.array([[1, 2, 3],\n",
    "                     [2, 3, 4],\n",
    "                     [3, 4, 5],\n",
    "                     [4, 5, 6],\n",
    "                     [5, 6, 7],\n",
    "                     [6, 7, 8],\n",
    "                     [7, 8, 9],\n",
    "                     [8, 9, 10],\n",
    "                     [9, 10, 11],\n",
    "                     [10, 11, 12]])\n",
    "\n",
    "# Reshape the triplets to form line segments\n",
    "line_segments = triplets.reshape(-1, 2)\n",
    "\n",
    "# Sort each line segment to ensure consistency\n",
    "line_segments.sort(axis=1)\n",
    "\n",
    "# Find the unique line segments\n",
    "unique_segments = np.unique(line_segments, axis=0)\n",
    "\n",
    "# Print the result\n",
    "print(unique_segments)"
   ]
  },
  {
   "cell_type": "code",
   "execution_count": 299,
   "metadata": {},
   "outputs": [
    {
     "name": "stdout",
     "output_type": "stream",
     "text": [
      "[1 2 2 3 3 4 4 4 5 5 5 5 6 6 6 6 7 7 7 7 8 8 8 8 8]\n"
     ]
    }
   ],
   "source": [
    "#### 74. Given a sorted array C that corresponds to a bincount, how to produce an array A such that np.bincount(A) == C? (★★★)\n",
    "\n",
    "# Sorted array C corresponding to bincount\n",
    "C = np.array([0, 1, 2, 2, 3, 4, 4, 4, 5])\n",
    "\n",
    "# Produce array A such that np.bincount(A) == C\n",
    "A = np.repeat(np.arange(len(C)), C)\n",
    "\n",
    "# Print the result\n",
    "print(A)"
   ]
  },
  {
   "cell_type": "code",
   "execution_count": 300,
   "metadata": {},
   "outputs": [
    {
     "name": "stdout",
     "output_type": "stream",
     "text": [
      "[2. 3. 4. 5. 6. 7. 8. 9.]\n"
     ]
    }
   ],
   "source": [
    "#### 75. How to compute averages using a sliding window over an array? (★★★)\n",
    "# Input array\n",
    "array = np.array([1, 2, 3, 4, 5, 6, 7, 8, 9, 10])\n",
    "\n",
    "# Window size\n",
    "window_size = 3\n",
    "\n",
    "# Define the weights for the sliding window\n",
    "weights = np.ones(window_size) / window_size\n",
    "\n",
    "# Compute the averages using the sliding window\n",
    "averages = np.convolve(array, weights, mode='valid')\n",
    "\n",
    "# Print the result\n",
    "print(averages)"
   ]
  },
  {
   "cell_type": "code",
   "execution_count": 301,
   "metadata": {},
   "outputs": [
    {
     "name": "stdout",
     "output_type": "stream",
     "text": [
      "[[1 2 3]\n",
      " [2 3 4]\n",
      " [3 4 5]]\n"
     ]
    }
   ],
   "source": [
    "\n",
    "# One-dimensional array Z\n",
    "Z = np.array([1, 2, 3, 4, 5])\n",
    "\n",
    "# Build the two-dimensional array\n",
    "n = 3  # Number of elements per row\n",
    "m = len(Z) - n + 1  # Number of rows\n",
    "result = np.zeros((m, n), dtype=Z.dtype)\n",
    "\n",
    "for i in range(m):\n",
    "    result[i] = Z[i:i+n]\n",
    "\n",
    "# Print the result\n",
    "print(result)"
   ]
  },
  {
   "cell_type": "code",
   "execution_count": 302,
   "metadata": {},
   "outputs": [
    {
     "name": "stdout",
     "output_type": "stream",
     "text": [
      "False\n",
      "-3.14\n"
     ]
    }
   ],
   "source": [
    "#### 77. How to negate a boolean, or to change the sign of a float inplace? (★★★)\n",
    "\n",
    "b = True\n",
    "b = not b\n",
    "print(b)  # False\n",
    "\n",
    "f = 3.14\n",
    "f *= -1\n",
    "print(f)  # -3.14"
   ]
  },
  {
   "cell_type": "code",
   "execution_count": 303,
   "metadata": {},
   "outputs": [
    {
     "name": "stdout",
     "output_type": "stream",
     "text": [
      "[3.53553391 2.12132034 0.70710678]\n"
     ]
    }
   ],
   "source": [
    "#### 78. Consider 2 sets of points P0,P1 describing lines (2d) and a point p, how to compute distance from p to each line i (P0[i],P1[i])? (★★★)\n",
    "\n",
    "def distance_to_lines(P0, P1, p):\n",
    "    # Convert points to NumPy arrays\n",
    "    P0 = np.array(P0)\n",
    "    P1 = np.array(P1)\n",
    "    p = np.array(p)\n",
    "\n",
    "    # Compute vectors along each line segment\n",
    "    v = P1 - P0\n",
    "\n",
    "    # Compute vectors from P0 to p\n",
    "    w = p - P0\n",
    "\n",
    "    # Compute dot products\n",
    "    dot_products = np.einsum('ij,ij->i', v, w)\n",
    "\n",
    "    # Compute squared lengths of each line segment\n",
    "    squared_lengths = np.einsum('ij,ij->i', v, v)\n",
    "\n",
    "    # Compute distances from p to each line\n",
    "    distances = np.abs(dot_products) / np.sqrt(squared_lengths)\n",
    "\n",
    "    return distances\n",
    "\n",
    "# Example usage\n",
    "P0 = [(1, 1), (2, 2), (3, 3)]\n",
    "P1 = [(4, 4), (5, 5), (6, 6)]\n",
    "p = (2, 5)\n",
    "\n",
    "distances = distance_to_lines(P0, P1, p)\n",
    "print(distances)"
   ]
  },
  {
   "cell_type": "code",
   "execution_count": 304,
   "metadata": {},
   "outputs": [
    {
     "name": "stdout",
     "output_type": "stream",
     "text": [
      "[[3.53553391 2.12132034 0.70710678]\n",
      " [3.53553391 2.12132034 0.70710678]\n",
      " [3.53553391 2.12132034 0.70710678]]\n"
     ]
    }
   ],
   "source": [
    "#### 79. Consider 2 sets of points P0,P1 describing lines (2d) and a set of points P, how to compute distance from each point j (P[j]) to each line i (P0[i],P1[i])? (★★★)\n",
    "\n",
    "\n",
    "def distance_to_lines(P0, P1, P):\n",
    "    # Convert points to NumPy arrays\n",
    "    P0 = np.array(P0)\n",
    "    P1 = np.array(P1)\n",
    "    P = np.array(P)\n",
    "\n",
    "    # Compute vectors along each line segment\n",
    "    v = P1 - P0\n",
    "\n",
    "    # Initialize array to store distances\n",
    "    distances = np.zeros((len(P), len(P0)))\n",
    "\n",
    "    # Compute distances from each point in P to each line\n",
    "    for i, p in enumerate(P):\n",
    "        w = p - P0\n",
    "        dot_products = np.sum(v * w, axis=1)\n",
    "        squared_lengths = np.sum(v * v, axis=1)\n",
    "        distances[i] = np.abs(dot_products) / np.sqrt(squared_lengths)\n",
    "\n",
    "    return distances\n",
    "\n",
    "# Example usage\n",
    "P0 = [(1, 1), (2, 2), (3, 3)]\n",
    "P1 = [(4, 4), (5, 5), (6, 6)]\n",
    "P = [(2, 5), (3, 4), (4, 3)]\n",
    "\n",
    "distances = distance_to_lines(P0, P1, P)\n",
    "print(distances)"
   ]
  },
  {
   "cell_type": "code",
   "execution_count": 305,
   "metadata": {},
   "outputs": [],
   "source": [
    "#### 80. Consider an arbitrary array, write a function that extract a subpart with a fixed shape and centered on a given element (pad with a `fill` value when necessary) (★★★)\n",
    "def extract_subpart(arr, shape, center, fill_value):\n",
    "    # Convert inputs to NumPy arrays\n",
    "    arr = np.array(arr)\n",
    "    shape = np.array(shape)\n",
    "\n",
    "    # Calculate the starting and ending indices for each dimension\n",
    "    start = np.maximum(center - shape // 2, 0)\n",
    "    end = np.minimum(start + shape, arr.shape)\n",
    "\n",
    "    # Create an empty array with the desired shape and fill it with the fill value\n",
    "    subpart = np.full(shape, fill_value)\n",
    "\n",
    "    # Calculate the indices for the subpart within the full array\n",
    "    subpart_start = start - (center - shape // 2)\n",
    "    subpart_end = subpart_start + (end - start)\n",
    "\n",
    "    # Copy the relevant portion from the full array to the subpart array\n",
    "    subpart[subpart_start[0]:subpart_end[0], subpart_start[1]:subpart_end[1]] = arr[start[0]:end[0], start[1]:end[1]]\n",
    "\n",
    "    return subpart"
   ]
  },
  {
   "cell_type": "code",
   "execution_count": 306,
   "metadata": {},
   "outputs": [
    {
     "name": "stdout",
     "output_type": "stream",
     "text": [
      "[[ 1  2  3  4]\n",
      " [ 2  3  4  5]\n",
      " [ 3  4  5  6]\n",
      " [ 4  5  6  7]\n",
      " [ 5  6  7  8]\n",
      " [ 6  7  8  9]\n",
      " [ 7  8  9 10]\n",
      " [ 8  9 10 11]\n",
      " [ 9 10 11 12]\n",
      " [10 11 12 13]\n",
      " [11 12 13 14]]\n"
     ]
    }
   ],
   "source": [
    "#### 81. Consider an array Z = [1,2,3,4,5,6,7,8,9,10,11,12,13,14], how to generate an array R = [[1,2,3,4], [2,3,4,5], [3,4,5,6], ..., [11,12,13,14]]? (★★★)\n",
    "from numpy.lib.stride_tricks import sliding_window_view\n",
    "\n",
    "Z = np.array([1,2,3,4,5,6,7,8,9,10,11,12,13,14])\n",
    "window_size = 4\n",
    "\n",
    "R = sliding_window_view(Z, window_shape=(window_size,))\n",
    "print(R)"
   ]
  },
  {
   "cell_type": "code",
   "execution_count": 307,
   "metadata": {},
   "outputs": [
    {
     "name": "stdout",
     "output_type": "stream",
     "text": [
      "Rank: 2\n"
     ]
    }
   ],
   "source": [
    "#### 82. Compute a matrix rank (★★★)\n",
    "\n",
    "# Create a matrix\n",
    "matrix = np.array([[1, 2, 3], [4, 5, 6], [7, 8, 9]])\n",
    "\n",
    "# Compute the rank of the matrix\n",
    "rank = np.linalg.matrix_rank(matrix)\n",
    "\n",
    "print(\"Rank:\", rank)"
   ]
  },
  {
   "cell_type": "code",
   "execution_count": 308,
   "metadata": {},
   "outputs": [
    {
     "name": "stdout",
     "output_type": "stream",
     "text": [
      "Most frequent value: 2\n"
     ]
    }
   ],
   "source": [
    "#### 83. How to find the most frequent value in an array?\n",
    "\n",
    "# Create an array\n",
    "arr = np.array([1, 2, 3, 2, 4, 2, 1, 3, 2, 2])\n",
    "\n",
    "# Count the occurrences of each value\n",
    "counts = np.bincount(arr)\n",
    "\n",
    "# Find the value with the maximum count\n",
    "most_frequent_value = np.argmax(counts)\n",
    "\n",
    "print(\"Most frequent value:\", most_frequent_value)"
   ]
  },
  {
   "cell_type": "code",
   "execution_count": 309,
   "metadata": {},
   "outputs": [
    {
     "name": "stdout",
     "output_type": "stream",
     "text": [
      "[[3 2 4]\n",
      " [6 9 9]\n",
      " [4 7 0]]\n",
      "\n",
      "[[2 4 5]\n",
      " [9 9 8]\n",
      " [7 0 5]]\n",
      "\n",
      "[[4 5 6]\n",
      " [9 8 1]\n",
      " [0 5 9]]\n",
      "\n",
      "[[5 6 9]\n",
      " [8 1 5]\n",
      " [5 9 8]]\n",
      "\n",
      "[[6 9 7]\n",
      " [1 5 9]\n",
      " [9 8 5]]\n",
      "\n",
      "[[9 7 8]\n",
      " [5 9 9]\n",
      " [8 5 6]]\n",
      "\n",
      "[[7 8 3]\n",
      " [9 9 7]\n",
      " [5 6 3]]\n",
      "\n",
      "[[8 3 3]\n",
      " [9 7 4]\n",
      " [6 3 9]]\n",
      "\n",
      "[[6 9 9]\n",
      " [4 7 0]\n",
      " [0 8 5]]\n",
      "\n",
      "[[9 9 8]\n",
      " [7 0 5]\n",
      " [8 5 2]]\n",
      "\n",
      "[[9 8 1]\n",
      " [0 5 9]\n",
      " [5 2 3]]\n",
      "\n",
      "[[8 1 5]\n",
      " [5 9 8]\n",
      " [2 3 9]]\n",
      "\n",
      "[[1 5 9]\n",
      " [9 8 5]\n",
      " [3 9 5]]\n",
      "\n",
      "[[5 9 9]\n",
      " [8 5 6]\n",
      " [9 5 5]]\n",
      "\n",
      "[[9 9 7]\n",
      " [5 6 3]\n",
      " [5 5 8]]\n",
      "\n",
      "[[9 7 4]\n",
      " [6 3 9]\n",
      " [5 8 3]]\n",
      "\n",
      "[[4 7 0]\n",
      " [0 8 5]\n",
      " [4 4 2]]\n",
      "\n",
      "[[7 0 5]\n",
      " [8 5 2]\n",
      " [4 2 1]]\n",
      "\n",
      "[[0 5 9]\n",
      " [5 2 3]\n",
      " [2 1 7]]\n",
      "\n",
      "[[5 9 8]\n",
      " [2 3 9]\n",
      " [1 7 9]]\n",
      "\n",
      "[[9 8 5]\n",
      " [3 9 5]\n",
      " [7 9 8]]\n",
      "\n",
      "[[8 5 6]\n",
      " [9 5 5]\n",
      " [9 8 9]]\n",
      "\n",
      "[[5 6 3]\n",
      " [5 5 8]\n",
      " [8 9 8]]\n",
      "\n",
      "[[6 3 9]\n",
      " [5 8 3]\n",
      " [9 8 4]]\n",
      "\n",
      "[[0 8 5]\n",
      " [4 4 2]\n",
      " [8 3 1]]\n",
      "\n",
      "[[8 5 2]\n",
      " [4 2 1]\n",
      " [3 1 2]]\n",
      "\n",
      "[[5 2 3]\n",
      " [2 1 7]\n",
      " [1 2 0]]\n",
      "\n",
      "[[2 3 9]\n",
      " [1 7 9]\n",
      " [2 0 4]]\n",
      "\n",
      "[[3 9 5]\n",
      " [7 9 8]\n",
      " [0 4 0]]\n",
      "\n",
      "[[9 5 5]\n",
      " [9 8 9]\n",
      " [4 0 0]]\n",
      "\n",
      "[[5 5 8]\n",
      " [8 9 8]\n",
      " [0 0 6]]\n",
      "\n",
      "[[5 8 3]\n",
      " [9 8 4]\n",
      " [0 6 1]]\n",
      "\n",
      "[[4 4 2]\n",
      " [8 3 1]\n",
      " [7 5 3]]\n",
      "\n",
      "[[4 2 1]\n",
      " [3 1 2]\n",
      " [5 3 8]]\n",
      "\n",
      "[[2 1 7]\n",
      " [1 2 0]\n",
      " [3 8 9]]\n",
      "\n",
      "[[1 7 9]\n",
      " [2 0 4]\n",
      " [8 9 7]]\n",
      "\n",
      "[[7 9 8]\n",
      " [0 4 0]\n",
      " [9 7 9]]\n",
      "\n",
      "[[9 8 9]\n",
      " [4 0 0]\n",
      " [7 9 2]]\n",
      "\n",
      "[[8 9 8]\n",
      " [0 0 6]\n",
      " [9 2 2]]\n",
      "\n",
      "[[9 8 4]\n",
      " [0 6 1]\n",
      " [2 2 3]]\n",
      "\n",
      "[[8 3 1]\n",
      " [7 5 3]\n",
      " [8 8 4]]\n",
      "\n",
      "[[3 1 2]\n",
      " [5 3 8]\n",
      " [8 4 8]]\n",
      "\n",
      "[[1 2 0]\n",
      " [3 8 9]\n",
      " [4 8 5]]\n",
      "\n",
      "[[2 0 4]\n",
      " [8 9 7]\n",
      " [8 5 7]]\n",
      "\n",
      "[[0 4 0]\n",
      " [9 7 9]\n",
      " [5 7 7]]\n",
      "\n",
      "[[4 0 0]\n",
      " [7 9 2]\n",
      " [7 7 9]]\n",
      "\n",
      "[[0 0 6]\n",
      " [9 2 2]\n",
      " [7 9 6]]\n",
      "\n",
      "[[0 6 1]\n",
      " [2 2 3]\n",
      " [9 6 3]]\n",
      "\n",
      "[[7 5 3]\n",
      " [8 8 4]\n",
      " [3 5 8]]\n",
      "\n",
      "[[5 3 8]\n",
      " [8 4 8]\n",
      " [5 8 6]]\n",
      "\n",
      "[[3 8 9]\n",
      " [4 8 5]\n",
      " [8 6 4]]\n",
      "\n",
      "[[8 9 7]\n",
      " [8 5 7]\n",
      " [6 4 4]]\n",
      "\n",
      "[[9 7 9]\n",
      " [5 7 7]\n",
      " [4 4 7]]\n",
      "\n",
      "[[7 9 2]\n",
      " [7 7 9]\n",
      " [4 7 5]]\n",
      "\n",
      "[[9 2 2]\n",
      " [7 9 6]\n",
      " [7 5 0]]\n",
      "\n",
      "[[2 2 3]\n",
      " [9 6 3]\n",
      " [5 0 0]]\n",
      "\n",
      "[[8 8 4]\n",
      " [3 5 8]\n",
      " [8 7 5]]\n",
      "\n",
      "[[8 4 8]\n",
      " [5 8 6]\n",
      " [7 5 0]]\n",
      "\n",
      "[[4 8 5]\n",
      " [8 6 4]\n",
      " [5 0 1]]\n",
      "\n",
      "[[8 5 7]\n",
      " [6 4 4]\n",
      " [0 1 9]]\n",
      "\n",
      "[[5 7 7]\n",
      " [4 4 7]\n",
      " [1 9 2]]\n",
      "\n",
      "[[7 7 9]\n",
      " [4 7 5]\n",
      " [9 2 9]]\n",
      "\n",
      "[[7 9 6]\n",
      " [7 5 0]\n",
      " [2 9 2]]\n",
      "\n",
      "[[9 6 3]\n",
      " [5 0 0]\n",
      " [9 2 1]]\n",
      "\n"
     ]
    }
   ],
   "source": [
    "#### 84. Extract all the contiguous 3x3 blocks from a random 10x10 matrix (★★★)\n",
    "# Create a random 10x10 matrix\n",
    "matrix = np.random.randint(0, 10, (10, 10))\n",
    "\n",
    "# Extract the contiguous 3x3 blocks\n",
    "blocks = []\n",
    "for i in range(8):  # Iterate over rows (0 to 7)\n",
    "    for j in range(8):  # Iterate over columns (0 to 7)\n",
    "        block = matrix[i:i+3, j:j+3]  # Extract the 3x3 block\n",
    "        blocks.append(block)\n",
    "\n",
    "# Display the extracted blocks\n",
    "for block in blocks:\n",
    "    print(block)\n",
    "    print()"
   ]
  },
  {
   "cell_type": "code",
   "execution_count": 310,
   "metadata": {},
   "outputs": [
    {
     "name": "stdout",
     "output_type": "stream",
     "text": [
      "4\n",
      "2\n"
     ]
    }
   ],
   "source": [
    "#### 85. Create a 2D array subclass such that Z[i,j] == Z[j,i] (★★★)\n",
    "\n",
    "class SymmetricArray(np.ndarray):\n",
    "    def __getitem__(self, index):\n",
    "        # Swap the indices for symmetry\n",
    "        swapped_index = (index[1], index[0])\n",
    "        return super().__getitem__(swapped_index)\n",
    "\n",
    "# Create a symmetric 2D array\n",
    "arr = np.array([[1, 2, 3], [4, 5, 6], [7, 8, 9]])\n",
    "sym_arr = arr.view(SymmetricArray)\n",
    "\n",
    "# Test the symmetry property\n",
    "print(sym_arr[0, 1])  # Output: 2\n",
    "print(sym_arr[1, 0])  # Output: 2"
   ]
  },
  {
   "cell_type": "code",
   "execution_count": 311,
   "metadata": {},
   "outputs": [
    {
     "name": "stdout",
     "output_type": "stream",
     "text": [
      "[[4.96550599]\n",
      " [4.55616071]\n",
      " [5.48822421]\n",
      " [4.51062626]]\n"
     ]
    }
   ],
   "source": [
    "#### 86. Consider a set of p matrices with shape (n,n) and a set of p vectors with shape (n,1). How to compute the sum of of the p matrix products at once? (result has shape (n,1)) (★★★)\n",
    "\n",
    "# Set the number of matrices and their shape\n",
    "p = 3\n",
    "n = 4\n",
    "\n",
    "# Create p matrices and p vectors\n",
    "matrices = [np.random.rand(n, n) for _ in range(p)]\n",
    "vectors = [np.random.rand(n, 1) for _ in range(p)]\n",
    "\n",
    "# Compute the sum of p matrix products\n",
    "result = np.sum([np.matmul(matrices[i], vectors[i]) for i in range(p)], axis=0)\n",
    "\n",
    "print(result)"
   ]
  },
  {
   "cell_type": "code",
   "execution_count": 312,
   "metadata": {},
   "outputs": [
    {
     "name": "stdout",
     "output_type": "stream",
     "text": [
      "[[ 120  376  632  888]\n",
      " [1144 1400 1656 1912]\n",
      " [2168 2424 2680 2936]\n",
      " [3192 3448 3704 3960]]\n"
     ]
    }
   ],
   "source": [
    "#### 87. Consider a 16x16 array, how to get the block-sum (block size is 4x4)? (★★★)\n",
    "# Create a 16x16 array\n",
    "arr = np.arange(256).reshape(16, 16)\n",
    "\n",
    "# Define the block size\n",
    "block_size = 4\n",
    "\n",
    "# Reshape the array to a block-shaped 4D array\n",
    "block_arr = arr.reshape(4, 4, 4, 4)\n",
    "\n",
    "# Compute the block-sum along the last two axes\n",
    "block_sum = np.sum(block_arr, axis=(-2, -1))\n",
    "\n",
    "print(block_sum)"
   ]
  },
  {
   "cell_type": "code",
   "execution_count": 313,
   "metadata": {},
   "outputs": [],
   "source": [
    "#### 88. How to implement the Game of Life using numpy arrays? (★★★)\n",
    "def game_of_life(grid, iterations):\n",
    "    \"\"\"\n",
    "    Simulates the Game of Life for a given number of iterations.\n",
    "\n",
    "    Args:\n",
    "        grid (numpy.ndarray): The initial grid of cells.\n",
    "        iterations (int): The number of iterations to simulate.\n",
    "\n",
    "    Returns:\n",
    "        numpy.ndarray: The final grid of cells after the specified number of iterations.\n",
    "    \"\"\"\n",
    "\n",
    "    for _ in range(iterations):\n",
    "        # Create a copy of the current grid for the next iteration\n",
    "        next_grid = grid.copy()\n",
    "\n",
    "        # Get the number of rows and columns in the grid\n",
    "        rows, cols = grid.shape\n",
    "\n",
    "        # Iterate over each cell in the grid\n",
    "        for i in range(rows):\n",
    "            for j in range(cols):\n",
    "                # Count the number of live neighbors\n",
    "                live_neighbors = np.sum(grid[max(i-1, 0):min(i+2, rows), max(j-1, 0):min(j+2, cols)]) - grid[i, j]\n",
    "\n",
    "                # Apply the rules of the Game of Life\n",
    "                if grid[i, j] == 1 and (live_neighbors < 2 or live_neighbors > 3):\n",
    "                    next_grid[i, j] = 0\n",
    "                elif grid[i, j] == 0 and live_neighbors == 3:\n",
    "                    next_grid[i, j] = 1\n",
    "\n",
    "        # Update the grid for the next iteration\n",
    "        grid = next_grid\n",
    "\n",
    "    return grid\n"
   ]
  },
  {
   "cell_type": "code",
   "execution_count": 314,
   "metadata": {},
   "outputs": [
    {
     "name": "stdout",
     "output_type": "stream",
     "text": [
      "[93 95 97 80 69]\n"
     ]
    }
   ],
   "source": [
    "#### 89. How to get the n largest values of an array (★★★)\n",
    "\n",
    "# Create an array of random numbers\n",
    "arr = np.random.randint(0, 100, 20)\n",
    "\n",
    "# Number of largest values to retrieve\n",
    "n = 5\n",
    "\n",
    "# Get the n largest values\n",
    "largest_values = -np.partition(-arr, n)[:n]\n",
    "\n",
    "print(largest_values)"
   ]
  },
  {
   "cell_type": "code",
   "execution_count": 315,
   "metadata": {},
   "outputs": [
    {
     "name": "stdout",
     "output_type": "stream",
     "text": [
      "[(1, 'a', True), (1, 'a', False), (1, 'b', True), (1, 'b', False), (1, 'c', True), (1, 'c', False), (2, 'a', True), (2, 'a', False), (2, 'b', True), (2, 'b', False), (2, 'c', True), (2, 'c', False)]\n"
     ]
    }
   ],
   "source": [
    "#### 90. Given an arbitrary number of vectors, build the cartesian product (every combinations of every item) (★★★)\n",
    "\n",
    "import itertools\n",
    "\n",
    "# Define the vectors\n",
    "vector1 = [1, 2]\n",
    "vector2 = ['a', 'b', 'c']\n",
    "vector3 = [True, False]\n",
    "\n",
    "# Build the cartesian product\n",
    "cartesian_product = list(itertools.product(vector1, vector2, vector3))\n",
    "\n",
    "print(cartesian_product)"
   ]
  },
  {
   "cell_type": "code",
   "execution_count": 316,
   "metadata": {},
   "outputs": [
    {
     "name": "stdout",
     "output_type": "stream",
     "text": [
      "[(1, 'Alice', 25) (2, 'Bob', 30) (3, 'Charlie', 35)]\n",
      "[1 2 3]\n",
      "['Alice' 'Bob' 'Charlie']\n",
      "[25 30 35]\n"
     ]
    }
   ],
   "source": [
    "#### 91. How to create a record array from a regular array? (★★★)\n",
    "\n",
    "# Create a regular array\n",
    "regular_array = np.array([(1, 'Alice', 25),\n",
    "                          (2, 'Bob', 30),\n",
    "                          (3, 'Charlie', 35)],\n",
    "                         dtype=[('id', int), ('name', 'U10'), ('age', int)])\n",
    "\n",
    "# Create a record array from the regular array\n",
    "record_array = np.rec.array(regular_array)\n",
    "\n",
    "print(record_array)\n",
    "print(record_array.id)\n",
    "print(record_array.name)\n",
    "print(record_array.age)"
   ]
  },
  {
   "cell_type": "code",
   "execution_count": 317,
   "metadata": {},
   "outputs": [],
   "source": [
    "#### 92. Consider a large vector Z, compute Z to the power of 3 using 3 different methods (★★★)\n",
    "\n",
    "# Create a large vector Z\n",
    "Z = np.random.rand(1000000)\n",
    "\n",
    "# Compute Z to the power of 3 using NumPy's power function\n",
    "result1 = np.power(Z, 3)\n",
    "\n",
    "# Compute Z to the power of 3 using a loop\n",
    "result3 = np.empty_like(Z)\n",
    "for i in range(len(Z)):\n",
    "    result3[i] = Z[i] ** 3"
   ]
  },
  {
   "cell_type": "code",
   "execution_count": 318,
   "metadata": {},
   "outputs": [
    {
     "name": "stdout",
     "output_type": "stream",
     "text": [
      "[]\n"
     ]
    }
   ],
   "source": [
    "\n",
    "#### 93. Consider two arrays A and B of shape (8,3) and (2,2). How to find rows of A that contain elements of each row of B regardless of the order of the elements in B? (★★★)\n",
    "# Create arrays A and B\n",
    "A = np.array([[1, 2, 3],\n",
    "              [4, 5, 6],\n",
    "              [7, 8, 9],\n",
    "              [1, 2, 9],\n",
    "              [4, 6, 5],\n",
    "              [7, 9, 8],\n",
    "              [1, 2, 3],\n",
    "              [4, 5, 6]])\n",
    "\n",
    "B = np.array([[1, 2],\n",
    "              [4, 5]])\n",
    "\n",
    "# Find rows of A that contain elements of each row of B\n",
    "rows = np.where(np.logical_and.reduce(np.isin(A, B), axis=1))[0]\n",
    "\n",
    "print(rows)\n"
   ]
  },
  {
   "cell_type": "code",
   "execution_count": 319,
   "metadata": {},
   "outputs": [
    {
     "name": "stdout",
     "output_type": "stream",
     "text": [
      "[[2 2 2]\n",
      " [4 5 6]\n",
      " [7 7 7]\n",
      " [1 2 9]\n",
      " [4 6 5]\n",
      " [7 9 9]\n",
      " [4 5 6]\n",
      " [1 1 1]]\n"
     ]
    }
   ],
   "source": [
    "#### 94. Considering a 10x3 matrix, extract rows with unequal values (e.g. [2,2,3]) (★★★)\n",
    "# Create a 10x3 matrix\n",
    "matrix = np.array([[1, 2, 3],\n",
    "                   [2, 2, 2],\n",
    "                   [4, 5, 6],\n",
    "                   [7, 7, 7],\n",
    "                   [1, 2, 9],\n",
    "                   [4, 6, 5],\n",
    "                   [7, 9, 9],\n",
    "                   [1, 2, 3],\n",
    "                   [4, 5, 6],\n",
    "                   [1, 1, 1]])\n",
    "\n",
    "# Extract rows with unequal values\n",
    "unequal_rows = matrix[~np.all(matrix == matrix[0, :], axis=1)]\n",
    "\n",
    "print(unequal_rows)"
   ]
  },
  {
   "cell_type": "code",
   "execution_count": 320,
   "metadata": {},
   "outputs": [
    {
     "name": "stdout",
     "output_type": "stream",
     "text": [
      "[[1 0 1]\n",
      " [0 1 1]\n",
      " [0 0 1]\n",
      " [1 1 1]]\n"
     ]
    }
   ],
   "source": [
    "#### 95. Convert a vector of ints into a matrix binary representation (★★★)\n",
    "\n",
    "\n",
    "# Create a vector of integers\n",
    "vector = np.array([5, 3, 1, 7])\n",
    "\n",
    "# Get the maximum value in the vector\n",
    "max_value = np.max(vector)\n",
    "\n",
    "# Determine the number of bits required to represent the maximum value\n",
    "num_bits = int(np.ceil(np.log2(max_value + 1)))\n",
    "\n",
    "# Convert the vector into a matrix binary representation\n",
    "binary_matrix = np.unpackbits(vector.astype(np.uint8)[:, np.newaxis], axis=1)\n",
    "binary_matrix = binary_matrix[:, -num_bits:]\n",
    "\n",
    "print(binary_matrix)"
   ]
  },
  {
   "cell_type": "code",
   "execution_count": 321,
   "metadata": {},
   "outputs": [
    {
     "name": "stdout",
     "output_type": "stream",
     "text": [
      "[[1 2 3]\n",
      " [4 5 6]\n",
      " [7 8 9]]\n"
     ]
    }
   ],
   "source": [
    "#### 96. Given a two dimensional array, how to extract unique rows? (★★★)\n",
    "# Create a two-dimensional array\n",
    "array = np.array([[1, 2, 3],\n",
    "                  [4, 5, 6],\n",
    "                  [1, 2, 3],\n",
    "                  [7, 8, 9],\n",
    "                  [4, 5, 6]])\n",
    "\n",
    "# Extract unique rows\n",
    "unique_rows = np.unique(array, axis=0)\n",
    "\n",
    "print(unique_rows)"
   ]
  },
  {
   "cell_type": "code",
   "execution_count": 322,
   "metadata": {},
   "outputs": [
    {
     "name": "stdout",
     "output_type": "stream",
     "text": [
      "Inner product: 32\n",
      "Outer product:\n",
      "[[ 4  5  6]\n",
      " [ 8 10 12]\n",
      " [12 15 18]]\n",
      "Element-wise sum: [ 4 10 18]\n",
      "Element-wise multiplication: [ 4 10 18]\n"
     ]
    }
   ],
   "source": [
    "#### 97. Considering 2 vectors A & B, write the einsum equivalent of inner, outer, sum, and mul function (★★★)\n",
    "\n",
    "# Define vectors A and B\n",
    "A = np.array([1, 2, 3])\n",
    "B = np.array([4, 5, 6])\n",
    "\n",
    "# Inner product of A and B\n",
    "inner_product = np.einsum('i,i', A, B)\n",
    "print(\"Inner product:\", inner_product)\n",
    "\n",
    "# Outer product of A and B\n",
    "outer_product = np.einsum('i,j->ij', A, B)\n",
    "print(\"Outer product:\")\n",
    "print(outer_product)\n",
    "\n",
    "# Element-wise sum of A and B\n",
    "elementwise_sum = np.einsum('i,i->i', A, B)\n",
    "print(\"Element-wise sum:\", elementwise_sum)\n",
    "\n",
    "# Element-wise multiplication of A and B\n",
    "elementwise_multiply = np.einsum('i,i->i', A, B)\n",
    "print(\"Element-wise multiplication:\", elementwise_multiply)"
   ]
  },
  {
   "cell_type": "code",
   "execution_count": 323,
   "metadata": {},
   "outputs": [
    {
     "name": "stdout",
     "output_type": "stream",
     "text": [
      "(1.0, 10.0)\n",
      "(1.4444444444444444, 14.444444444444445)\n",
      "(1.8888888888888888, 18.88888888888889)\n",
      "(2.3333333333333335, 23.333333333333336)\n",
      "(2.7777777777777777, 27.77777777777778)\n",
      "(3.2222222222222223, 32.22222222222222)\n",
      "(3.666666666666667, 36.66666666666667)\n",
      "(4.111111111111112, 41.111111111111114)\n",
      "(4.555555555555555, 45.55555555555556)\n",
      "(5.0, 50.0)\n"
     ]
    }
   ],
   "source": [
    "#### 98. Considering a path described by two vectors (X,Y), how to sample it using equidistant samples (★★★)?\n",
    "\n",
    "# Define vectors X and Y\n",
    "X = np.array([1, 2, 3, 4, 5])\n",
    "Y = np.array([10, 20, 30, 40, 50])\n",
    "\n",
    "# Number of samples\n",
    "num_samples = 10\n",
    "\n",
    "# Calculate the total length of the path\n",
    "path_length = np.sum(np.sqrt(np.diff(X) ** 2 + np.diff(Y) ** 2))\n",
    "\n",
    "# Calculate the step size\n",
    "step_size = path_length / (num_samples - 1)\n",
    "\n",
    "# Calculate the cumulative distances along the path\n",
    "distances = np.cumsum(np.sqrt(np.diff(X) ** 2 + np.diff(Y) ** 2))\n",
    "\n",
    "# Add zero at the beginning to represent the starting point\n",
    "distances = np.insert(distances, 0, 0)\n",
    "\n",
    "# Sample the path using equidistant samples\n",
    "sampled_X = np.interp(np.linspace(0, path_length, num_samples), distances, X)\n",
    "sampled_Y = np.interp(np.linspace(0, path_length, num_samples), distances, Y)\n",
    "\n",
    "# Print the sampled path\n",
    "for x, y in zip(sampled_X, sampled_Y):\n",
    "    print(f\"({x}, {y})\")\n"
   ]
  },
  {
   "cell_type": "code",
   "execution_count": 324,
   "metadata": {},
   "outputs": [
    {
     "name": "stdout",
     "output_type": "stream",
     "text": [
      "[[1 2 2]\n",
      " [0 5 0]\n",
      " [2 1 2]\n",
      " [3 0 2]]\n"
     ]
    }
   ],
   "source": [
    "#### 99. Given an integer n and a 2D array X, select from X the rows which can be interpreted as draws from a multinomial distribution with n degrees, i.e., the rows which only contain integers and which sum to n. (★★★)\n",
    "\n",
    "# Define the integer n and the 2D array X\n",
    "n = 5\n",
    "X = np.array([[1, 2, 2],\n",
    "              [0, 5, 0],\n",
    "              [2, 1, 2],\n",
    "              [3, 0, 2]])\n",
    "\n",
    "# Select rows that only contain integers and sum to n\n",
    "selected_rows = X[(X.dtype == np.int64) & (np.sum(X, axis=1) == n)]\n",
    "\n",
    "print(selected_rows)"
   ]
  },
  {
   "cell_type": "code",
   "execution_count": 325,
   "metadata": {},
   "outputs": [
    {
     "name": "stdout",
     "output_type": "stream",
     "text": [
      "Bootstrapped 95% Confidence Interval: [3.7 7.3]\n"
     ]
    }
   ],
   "source": [
    "#### 100. Compute bootstrapped 95% confidence intervals for the mean of a 1D array X (i.e., resample the elements of an array with replacement N times, compute the mean of each sample, and then compute percentiles over the means). (★★★)\n",
    "\n",
    "# Set the random seed for reproducibility\n",
    "np.random.seed(42)\n",
    "\n",
    "# Define the 1D array X\n",
    "X = np.array([1, 2, 3, 4, 5, 6, 7, 8, 9, 10])\n",
    "\n",
    "# Number of bootstrap samples\n",
    "N = 1000\n",
    "\n",
    "# Perform bootstrapping\n",
    "bootstrap_means = []\n",
    "for _ in range(N):\n",
    "    # Resample with replacement\n",
    "    bootstrap_sample = np.random.choice(X, size=len(X), replace=True)\n",
    "    # Compute the mean of the bootstrap sample\n",
    "    bootstrap_mean = np.mean(bootstrap_sample)\n",
    "    bootstrap_means.append(bootstrap_mean)\n",
    "\n",
    "# Compute the 95% confidence interval\n",
    "confidence_interval = np.percentile(bootstrap_means, [2.5, 97.5])\n",
    "\n",
    "print(\"Bootstrapped 95% Confidence Interval:\", confidence_interval)"
   ]
  }
 ],
 "metadata": {
  "kernelspec": {
   "display_name": "deep_learning",
   "language": "python",
   "name": "python3"
  },
  "language_info": {
   "codemirror_mode": {
    "name": "ipython",
    "version": 3
   },
   "file_extension": ".py",
   "mimetype": "text/x-python",
   "name": "python",
   "nbconvert_exporter": "python",
   "pygments_lexer": "ipython3",
   "version": "3.9.18"
  }
 },
 "nbformat": 4,
 "nbformat_minor": 2
}
